{
  "cells": [
    {
      "cell_type": "markdown",
      "metadata": {
        "id": "MV7D0DpMjICA"
      },
      "source": [
        "## Description\n",
        "\n",
        "This project is to analyze twitter comments and classify them into categories. The data source is from [Twitter and Reddit Sentimental analysis Dataset](https://www.kaggle.com/datasets/cosmos98/twitter-and-reddit-sentimental-analysis-dataset/data), under license 'CC BY-NC-SA 4.0 DEED'.\n",
        "\n",
        "We are going to build the model with pre-trained model.\n",
        "\n",
        "According to the description of dataset, we have the following explanation for category column:\n",
        "\n",
        "- 0 Indicating it is a Neutral Tweet/Comment\n",
        "- 1 Indicating a Postive Sentiment\n",
        "- -1 Indicating a Negative Tweet/Comment\n",
        "\n",
        "Members:\n",
        "\n",
        "- **Qianfan Cheng: 101415827**\n",
        "- **Sut Ring Ja K P: 101468803**"
      ]
    },
    {
      "cell_type": "code",
      "execution_count": null,
      "metadata": {
        "id": "bQoAtWBqjSL2"
      },
      "outputs": [],
      "source": [
        "!pip install google.colab"
      ]
    },
    {
      "cell_type": "code",
      "execution_count": null,
      "metadata": {
        "colab": {
          "base_uri": "https://localhost:8080/"
        },
        "id": "ed0bY-rcje5W",
        "outputId": "7fdea384-e013-4569-8005-33793a46c0e7"
      },
      "outputs": [
        {
          "name": "stdout",
          "output_type": "stream",
          "text": [
            "Mounted at /content/drive\n"
          ]
        }
      ],
      "source": [
        "from google.colab import drive\n",
        "drive.mount('/content/drive')"
      ]
    },
    {
      "cell_type": "code",
      "execution_count": null,
      "metadata": {
        "id": "vLlm2dPKlf8O"
      },
      "outputs": [],
      "source": []
    },
    {
      "cell_type": "markdown",
      "metadata": {
        "id": "NnVogZSojICC"
      },
      "source": [
        "### 1. import necessary libraries"
      ]
    },
    {
      "cell_type": "code",
      "execution_count": 3,
      "metadata": {
        "colab": {
          "base_uri": "https://localhost:8080/"
        },
        "id": "EW-Tle0BjICC",
        "outputId": "238ba1ae-0fc5-4c1f-9366-a9b7bd7c7d1f"
      },
      "outputs": [
        {
          "name": "stderr",
          "output_type": "stream",
          "text": [
            "[nltk_data] Downloading package stopwords to /root/nltk_data...\n",
            "[nltk_data]   Unzipping corpora/stopwords.zip.\n"
          ]
        },
        {
          "data": {
            "text/plain": [
              "True"
            ]
          },
          "execution_count": 3,
          "metadata": {},
          "output_type": "execute_result"
        }
      ],
      "source": [
        "import re\n",
        "import string\n",
        "from typing import Any\n",
        "import pandas as pd\n",
        "import numpy as np\n",
        "import matplotlib.pyplot as plt\n",
        "import seaborn as sns\n",
        "import tensorflow as tf\n",
        "from tensorflow import keras\n",
        "from tensorflow.keras import layers\n",
        "from transformers import BertConfig\n",
        "from transformers import BertTokenizerFast, TFBertForSequenceClassification\n",
        "import nltk\n",
        "nltk.download('stopwords')"
      ]
    },
    {
      "cell_type": "code",
      "execution_count": 4,
      "metadata": {
        "id": "fXhpg3IvjynW"
      },
      "outputs": [],
      "source": [
        "import re\n",
        "import string\n",
        "from typing import Any\n",
        "import pandas as pd\n",
        "import numpy as np\n",
        "from nltk.corpus import stopwords\n",
        "from sklearn.model_selection import train_test_split\n",
        "import tensorflow as tf\n",
        "\n",
        "\n",
        "class TextPreprocessing:\n",
        "\n",
        "    def __init__(self, df: pd.DataFrame = None):\n",
        "        self._dataset = df\n",
        "        self.train_dataset = None\n",
        "        self.test_dataset = None\n",
        "        self.val_dataset = None\n",
        "        self.labels2id = {'Positive': 1, 'Neutral': 0, 'Negative': 2}\n",
        "        self.id2labels = {1: 'Positive', 0: 'Neutral', 2: 'Negative'}\n",
        "\n",
        "    @staticmethod\n",
        "    def text_cleaning(text: str) -> str:\n",
        "        \"\"\"\n",
        "        Clean the text using NLP and regular expressions\n",
        "        :param text: str, uncleaned text str\n",
        "        :return str:\n",
        "        \"\"\"\n",
        "        # remove hyper links\n",
        "        text = re.sub(r'https?://\\S+|www\\.\\S+', 'URL', text)\n",
        "        # remove HTML tags\n",
        "        text = re.sub(r'<.*?>', '', text)\n",
        "        # exclude characters that are not in the printable set\n",
        "        text = ''.join([char for char in text if char in string.printable])\n",
        "        # replace Twitter-like handles (starting with '@') with the string 'USER'\n",
        "        text = re.sub(r'@\\S+', 'USER', text)\n",
        "        # remove punctuation from the text\n",
        "        table = str.maketrans('', '', string.punctuation)\n",
        "        text = text.translate(table)\n",
        "        # remove stopwords\n",
        "        text = ' '.join([\n",
        "            word for word in text.split()\n",
        "            if word not in stopwords.words(\"english\")\n",
        "        ])\n",
        "\n",
        "        return text\n",
        "\n",
        "    @property\n",
        "    def dataset(self) -> pd.DataFrame:\n",
        "        return self._dataset\n",
        "\n",
        "    @dataset.setter\n",
        "    def dataset(self, df: pd.DataFrame) -> None:\n",
        "        self._dataset = df\n",
        "\n",
        "    def drop_rows(self, cols: tuple[str]) -> None:\n",
        "        \"\"\"\n",
        "        Drop null rows and duplicated rows\n",
        "        :return:\n",
        "        \"\"\"\n",
        "        if self.dataset.duplicated().sum() > 0:\n",
        "            self.dataset.drop_duplicates(inplace=True)\n",
        "        if cols:\n",
        "            self.dataset.dropna(subset=list(cols), inplace=True)\n",
        "\n",
        "    def convert_category_to_int(self) -> None:\n",
        "        \"\"\"\n",
        "        convert category datatype into int8\n",
        "        :return:\n",
        "        \"\"\"\n",
        "        if self.dataset.category.isnull().sum() == 0:\n",
        "            self.dataset['category'] = self.dataset['category'].astype(np.int8)\n",
        "\n",
        "    def encode_labels(self) -> None:\n",
        "        \"\"\"\n",
        "        map labels from str to int\n",
        "        :return:\n",
        "        \"\"\"\n",
        "        self.dataset['category'] = self.dataset['category'].map(self.labels2id)\n",
        "\n",
        "    def update_label_values(self) -> None:\n",
        "        \"\"\"\n",
        "        update label values from -1, 0, 1 to 0, 1, 2\n",
        "        :return:\n",
        "        \"\"\"\n",
        "        self.dataset['category'] = self.dataset.category.apply(\n",
        "            lambda x: 2 if x == -1 else x)\n",
        "\n",
        "    def text_processing(self, cols=None) -> None:\n",
        "        \"\"\"\n",
        "        clean text column\n",
        "        :param cols: list, columns to apply text processing\n",
        "        :return:\n",
        "        \"\"\"\n",
        "        self.dataset[cols] = self.dataset[cols].apply(\n",
        "            TextPreprocessing.text_cleaning)\n",
        "\n",
        "    def create_text_length(self, col: str = None) -> None:\n",
        "        \"\"\"\n",
        "        create a text_length feature\n",
        "        :param col: str, column name\n",
        "        :return:\n",
        "        \"\"\"\n",
        "        self.dataset['text_length'] = self.dataset[col].apply(len)\n",
        "\n",
        "    def data_preprocessing(self,\n",
        "                           tokenizer: Any,\n",
        "                           batch_size: int = 32,\n",
        "                           max_length: int = 10000) -> tuple:\n",
        "        \"\"\"\n",
        "        tokenize the text to make them ready to pretrained model\n",
        "        :param batch_size: batch size\n",
        "        :param max_length: int\n",
        "        :param tokenizer: Any\n",
        "        :return:\n",
        "        \"\"\"\n",
        "        # split dataset into training and validation datasets\n",
        "        self.train_dataset, self.test_dataset = train_test_split(\n",
        "            self.dataset, test_size=0.1, random_state=100, shuffle=True)\n",
        "        self.train_dataset, self.val_dataset = train_test_split(\n",
        "            self.train_dataset, test_size=0.1, random_state=100, shuffle=True)\n",
        "\n",
        "        # tokenize text\n",
        "        tokenized_train = tokenizer(self.train_dataset.clean_text.to_list(),\n",
        "                                    padding=True,\n",
        "                                    truncation=True,\n",
        "                                    return_tensors='tf',\n",
        "                                    max_length=max_length)\n",
        "        tokenized_test = tokenizer(self.test_dataset.clean_text.to_list(),\n",
        "                                   padding=True,\n",
        "                                   truncation=True,\n",
        "                                   return_tensors='tf',\n",
        "                                   max_length=max_length)\n",
        "        tokenized_val = tokenizer(self.val_dataset.clean_text.to_list(),\n",
        "                                  padding=True,\n",
        "                                  truncation=True,\n",
        "                                  return_tensors='tf',\n",
        "                                  max_length=max_length)\n",
        "\n",
        "        # Convert tokenized data and labels to TensorFlow Dataset\n",
        "        # batch them and shuffle the training dataset\n",
        "        tensor_train_ds = (tf.data.Dataset.from_tensor_slices(({\n",
        "            'input_ids': tokenized_train['input_ids'],\n",
        "            'attention_mask': tokenized_train['attention_mask'],\n",
        "            'token_type_ids': tokenized_train['token_type_ids'],\n",
        "        }, self.train_dataset.category.values)).batch(batch_size).shuffle(\n",
        "            len(self.train_dataset)))\n",
        "        tensor_test_ds = (tf.data.Dataset.from_tensor_slices(({\n",
        "            'input_ids': tokenized_test['input_ids'],\n",
        "            'attention_mask': tokenized_test['attention_mask'],\n",
        "            'token_type_ids': tokenized_test['token_type_ids'],\n",
        "        }, self.test_dataset.category.values)).batch(batch_size))\n",
        "        tensor_val_ds = (tf.data.Dataset.from_tensor_slices(({\n",
        "            'input_ids': tokenized_val['input_ids'],\n",
        "            'attention_mask': tokenized_val['attention_mask'],\n",
        "            'token_type_ids': tokenized_val['token_type_ids'],\n",
        "        }, self.val_dataset.category.values)).batch(batch_size))\n",
        "\n",
        "        # Print the dataset\n",
        "        # for features, label in tensor_train_ds:\n",
        "        #     print(\"Input IDs:\", features['input_ids'].numpy(), \"Label:\", label.numpy())\n",
        "\n",
        "        return tensor_train_ds, tensor_val_ds, tensor_test_ds\n",
        "\n",
        "    @staticmethod\n",
        "    def prepare_predict_inputs(sentences,\n",
        "                               tokenizer: Any,\n",
        "                               batch_size: int = 32,\n",
        "                               max_length: int = 10000) -> tf.data.Dataset:\n",
        "        \"\"\"\n",
        "        prepare the input sentences for the prediction of custom model\n",
        "        :param sentences: a list of sentences as input\n",
        "        :param tokenizer: tokenizer to encode the sentences\n",
        "        :param batch_size: batch_size\n",
        "        :param max_length:\n",
        "        :return:\n",
        "        \"\"\"\n",
        "        tokenized_inputs = tokenizer(sentences,\n",
        "                                     padding=True,\n",
        "                                     truncation=True,\n",
        "                                     return_tensors=\"tf\",\n",
        "                                     max_length=max_length)\n",
        "        batched_input = tf.data.Dataset.from_tensor_slices({\n",
        "            'input_ids': tokenized_inputs['input_ids'],\n",
        "            'attention_mask': tokenized_inputs['attention_mask'],\n",
        "            'token_type_ids': tokenized_inputs['token_type_ids'],\n",
        "        }).batch(batch_size=batch_size)\n",
        "\n",
        "        return batched_input\n"
      ]
    },
    {
      "cell_type": "code",
      "execution_count": 6,
      "metadata": {
        "id": "y7g09qg0jzrz"
      },
      "outputs": [],
      "source": [
        "from typing import Any\n",
        "import tensorflow as tf\n",
        "from tensorflow.keras import layers\n",
        "from tensorflow import keras\n",
        "\n",
        "\n",
        "class PrintEpochProgress(keras.callbacks.Callback):\n",
        "\n",
        "    def on_epoch_end(self, epoch, logs=None):\n",
        "        \"\"\"\n",
        "        print info at the end of each epoch\n",
        "        \"\"\"\n",
        "        print('\\nEpoch:', epoch + 1, ' Loss:', logs['loss'])\n",
        "\n",
        "\n",
        "class EarlyStoppingAtMinLoss(keras.callbacks.EarlyStopping):\n",
        "    \"\"\"\n",
        "    Early stop when loss does not improve over epochs\n",
        "    \"\"\"\n",
        "\n",
        "    def __init__(self, min_delta=0, patience=0, **kwargs):\n",
        "        super(EarlyStoppingAtMinLoss, self).__init__(**kwargs)\n",
        "        self.min_delta = min_delta\n",
        "        self.patience = patience\n",
        "        self.wait = 0\n",
        "        self.stopped_epoch = 0\n",
        "        self.best = None\n",
        "\n",
        "    def on_epoch_end(self, epoch, logs=None):\n",
        "        current = logs.get(self.monitor)\n",
        "        if current is None:\n",
        "            raise ValueError(\n",
        "                f\"Early stopping conditioned on metric `{self.monitor}` which is not available.\"\n",
        "            )\n",
        "\n",
        "        if self.best is None or current < self.best - self.min_delta:\n",
        "            self.best = current\n",
        "            self.wait = 0\n",
        "        else:\n",
        "            self.wait += 1\n",
        "            if self.wait >= self.patience:\n",
        "                self.stopped_epoch = epoch\n",
        "                self.model.stop_training = True\n",
        "                self.model.stopped_epoch = epoch\n",
        "                self.model.best_epoch = epoch - self.patience\n",
        "\n",
        "\n",
        "class CustomCheckpoint(keras.callbacks.ModelCheckpoint):\n",
        "\n",
        "    def __init__(self, model_prefix='model', **kwargs):\n",
        "        super(CustomCheckpoint, self).__init__(**kwargs)\n",
        "        self.current_epoch = None\n",
        "        self.wait = None\n",
        "        self.model_prefix = model_prefix\n",
        "\n",
        "    def on_epoch_end(self, epoch, logs=None):\n",
        "        logs = logs or {}\n",
        "        if self.epochs_since_last_save == 0:\n",
        "            return\n",
        "\n",
        "        current = logs.get(self.monitor)\n",
        "        if current is None:\n",
        "            raise ValueError(\n",
        "                f\"ModelCheckpoint conditioned on metric `{self.monitor}` which is not available.\"\n",
        "            )\n",
        "\n",
        "        if self.monitor_op(current, self.best):\n",
        "            self.best = current\n",
        "            self.wait = 0\n",
        "\n",
        "            # Customize the checkpoint file name based on epoch and validation loss\n",
        "            filepath = self.filepath.format(epoch=epoch + 1, **logs)\n",
        "            if self.save_best_only:\n",
        "                self.best = current\n",
        "                if self.verbose > 0:\n",
        "                    print(f\"\\nEpoch {epoch + 1}: {self.monitor} \"\n",
        "                          f\"improved from {self.best} to {current}, \"\n",
        "                          f\"saving model to {filepath}\")\n",
        "                if self.save_weights_only:\n",
        "                    self.model.save_weights(filepath, overwrite=True)\n",
        "            else:\n",
        "                if self.verbose > 0:\n",
        "                    print(f\"\\nEpoch {epoch + 1}: saving model to {filepath}\")\n",
        "                if self.save_weights_only:\n",
        "                    self.model.save_weights(filepath, overwrite=True)\n",
        "            self.current_epoch = epoch + 1\n",
        "\n",
        "\n",
        "class SentimentAnalysisModel(keras.Model):\n",
        "    \"\"\"\n",
        "    Build a custom model by adding a classification head on top of the pretrained transformer.\n",
        "    \"\"\"\n",
        "\n",
        "    def __init__(self,\n",
        "                 pretrained_model,\n",
        "                 units: int = 1,\n",
        "                 remove_last_layer=True,\n",
        "                 **kwargs):\n",
        "        super(SentimentAnalysisModel, self).__init__(**kwargs)\n",
        "        if remove_last_layer:\n",
        "            self.pretrained_model = keras.Sequential(\n",
        "                pretrained_model.layers[:-2])\n",
        "        else:\n",
        "            self.pretrained_model = pretrained_model\n",
        "\n",
        "        # Additional layers: LSTM and BatchNormalization\n",
        "        # self.lstm_layer = layers.LSTM(128, return_sequences=True)\n",
        "        self.lstm_layer = layers.LSTM(128)\n",
        "        self.batch_norm1 = layers.BatchNormalization()\n",
        "        self.drop_1 = layers.Dropout(0.25)\n",
        "        self.lstm_layer2 = layers.Bidirectional(layers.LSTM(64))\n",
        "        self.batch_norm2 = layers.BatchNormalization()\n",
        "        self.drop_2 = layers.Dropout(0.25)\n",
        "        self.lstm_layer3 = layers.LSTM(32, activation='relu')\n",
        "        self.batch_norm3 = layers.BatchNormalization()\n",
        "        self.drop_3 = layers.Dropout(0.25)\n",
        "        # Flatten the output to be compatible with the dense layers\n",
        "        self.flatten = layers.Flatten()\n",
        "\n",
        "        self.dense_out = layers.Dense(units, activation='softmax')\n",
        "\n",
        "    def call(self,\n",
        "             inputs: Any,\n",
        "             training: bool = False,\n",
        "             mask: Any = None) -> Any:\n",
        "        # Forward pass through the pretrained BERT model\n",
        "        outputs = self.pretrained_model(inputs, training=training)\n",
        "\n",
        "        # Extract logits from the output\n",
        "        logits = outputs.pooler_output\n",
        "        # Extract the relevant tensor (you may choose 'last_hidden_state' or 'pooler_output')\n",
        "        # relevant_tensor = outputs.last_hidden_state  # or outputs.pooler_output\n",
        "\n",
        "        # Pass logits through additional layers\n",
        "        # additional_logits = self.additional_layers(logits)\n",
        "        # Apply LSTM and BatchNormalization layers\n",
        "        x = self.lstm_layer(tf.expand_dims(logits, axis=1))\n",
        "        x = self.batch_norm1(x)\n",
        "        x = self.drop_1(x, training=training)\n",
        "        x = self.lstm_layer2(tf.expand_dims(x, axis=1))\n",
        "        x = self.batch_norm2(x)\n",
        "        x = self.drop_2(x, training=training)\n",
        "        x = self.lstm_layer3(tf.expand_dims(x, axis=1))\n",
        "        x = self.batch_norm3(x)\n",
        "        x = self.drop_3(x, training=training)\n",
        "        x = self.flatten(x)\n",
        "\n",
        "        return self.dense_out(x)\n",
        "\n",
        "    def get_config(self):\n",
        "        # Serialize the configuration of the model\n",
        "        base_config = super(SentimentAnalysisModel, self).get_config()\n",
        "        return {'units': self.dense_out.units, **base_config}\n",
        "\n",
        "    @classmethod\n",
        "    def from_config(cls, config):\n",
        "        # Create a new instance of the model using the provided configuration\n",
        "        return cls(**config)\n",
        "\n",
        "\n",
        "class SentimentAnalysisBaseModel(keras.Model):\n",
        "    \"\"\"\n",
        "    Build a base model on top of the pretrained transformer.\n",
        "    \"\"\"\n",
        "\n",
        "    def __init__(self,\n",
        "                 pretrained_model,\n",
        "                 units: int = 1,\n",
        "                 remove_last_layer=True,\n",
        "                 **kwargs):\n",
        "        super(SentimentAnalysisBaseModel, self).__init__(**kwargs)\n",
        "        if remove_last_layer:\n",
        "            self.pretrained_model = keras.Sequential(\n",
        "                pretrained_model.layers[:-2])\n",
        "        else:\n",
        "            self.pretrained_model = pretrained_model\n",
        "\n",
        "        # Additional layers: LSTM and BatchNormalization\n",
        "        # self.lstm_layer = layers.LSTM(128, return_sequences=True)\n",
        "        self.lstm_layer = layers.Dense(128)\n",
        "        self.batch_norm1 = layers.BatchNormalization()\n",
        "        self.drop_1 = layers.Dropout(0.25)\n",
        "\n",
        "        self.dense_out = layers.Dense(units, activation='softmax')\n",
        "\n",
        "    def call(self,\n",
        "             inputs: Any,\n",
        "             training: bool = False,\n",
        "             mask: Any = None) -> Any:\n",
        "        # Forward pass through the pretrained BERT model\n",
        "        outputs = self.pretrained_model(inputs, training=training)\n",
        "\n",
        "        # Extract logits from the output\n",
        "        logits = outputs.pooler_output\n",
        "        # Extract the relevant tensor (you may choose 'last_hidden_state' or 'pooler_output')\n",
        "        # relevant_tensor = outputs.last_hidden_state  # or outputs.pooler_output\n",
        "\n",
        "        # Pass logits through additional layers\n",
        "        # additional_logits = self.additional_layers(logits)\n",
        "        # Apply LSTM and BatchNormalization layers\n",
        "        x = self.lstm_layer(tf.expand_dims(logits, axis=1))\n",
        "        x = self.batch_norm1(x)\n",
        "        x = self.drop_1(x, training=training)\n",
        "\n",
        "        return self.dense_out(x)\n",
        "\n",
        "    def get_config(self):\n",
        "        # Serialize the configuration of the model\n",
        "        base_config = super(SentimentAnalysisBaseModel, self).get_config()\n",
        "        return {'units': self.dense_out.units, **base_config}\n",
        "\n",
        "    @classmethod\n",
        "    def from_config(cls, config):\n",
        "        # Create a new instance of the model using the provided configuration\n",
        "        return cls(**config)\n"
      ]
    },
    {
      "cell_type": "code",
      "execution_count": 7,
      "metadata": {
        "id": "S0lMp6Zkj1iB"
      },
      "outputs": [],
      "source": [
        "from typing import Any\n",
        "import matplotlib.pyplot as plt\n",
        "import seaborn as sns\n",
        "from sklearn.metrics import confusion_matrix\n",
        "import numpy as np\n",
        "\n",
        "\n",
        "class PlotDiagram:\n",
        "\n",
        "    @staticmethod\n",
        "    def display_training_loss(history: Any = None) -> None:\n",
        "        \"\"\"\n",
        "        display the training loss diagram (learning curve)\n",
        "        :param history:\n",
        "        :return:\n",
        "        \"\"\"\n",
        "        plt.plot(history.history['loss'])\n",
        "        plt.plot(history.history['val_loss'])\n",
        "        plt.title('model_loss')\n",
        "        plt.ylabel('loss')\n",
        "        plt.xlabel('epoch')\n",
        "        plt.legend(['train', 'val'], loc='upper left')\n",
        "        plt.show()\n",
        "\n",
        "    @staticmethod\n",
        "    def display_training_accuracy(history: Any = None) -> None:\n",
        "        \"\"\"\n",
        "        display the training accuracy diagram (learning curve)\n",
        "        :param history:\n",
        "        :return:\n",
        "        \"\"\"\n",
        "        plt.plot(history.history['accuracy'])\n",
        "        plt.plot(history.history['val_accuracy'])\n",
        "\n",
        "        plt.title('model_accuracy')\n",
        "        plt.ylabel('accuracy')\n",
        "        plt.xlabel('epoch')\n",
        "        plt.legend(['train', 'val'], loc='upper left')\n",
        "        plt.show()\n",
        "\n",
        "    @staticmethod\n",
        "    def display_test_predictions(y_test,\n",
        "                                 y_test_hat,\n",
        "                                 title='Test Predictions') -> None:\n",
        "        \"\"\"\n",
        "        Plot the test prediction\n",
        "        :param y_test:\n",
        "        :param y_test_hat:\n",
        "        :param title:\n",
        "        :return:\n",
        "        \"\"\"\n",
        "        plt.plot(y_test, label='True Values', marker='.')\n",
        "        plt.plot(y_test_hat, label='Predicted Values', marker='.')\n",
        "        plt.title(title)\n",
        "        plt.xlabel('Time Steps')\n",
        "        plt.ylabel('Original Values')  # Adjust based on your data scaling\n",
        "        plt.legend()\n",
        "        plt.show()\n",
        "\n",
        "    @staticmethod\n",
        "    def display_confusion_matrix(y_test,\n",
        "                                 y_test_hat,\n",
        "                                 title='Evaluation Confusion Matrix') -> None:\n",
        "        \"\"\"\n",
        "        Plot the confusion matrix from test evaluation\n",
        "        :param y_test: true value of y_test\n",
        "        :param y_test_hat: predicted probability of y_test\n",
        "        :param title:\n",
        "        :return:\n",
        "        \"\"\"\n",
        "        conf_matrix = confusion_matrix(y_test, np.argmax(y_test_hat, axis=1))\n",
        "        plt.figure(figsize=(8, 6))\n",
        "        sns.heatmap(conf_matrix,\n",
        "                    annot=True,\n",
        "                    fmt=\"d\",\n",
        "                    cmap=\"Blues\",\n",
        "                    xticklabels=True,\n",
        "                    yticklabels=True)\n",
        "        plt.title(title)\n",
        "        plt.xlabel(\"Predicted Labels\")\n",
        "        plt.ylabel(\"True Labels\")\n",
        "        plt.show()\n"
      ]
    },
    {
      "cell_type": "code",
      "execution_count": 8,
      "metadata": {
        "id": "ZiYjYQOLjICE"
      },
      "outputs": [],
      "source": [
        "# # GPU device\n",
        "physical_devices = tf.config.list_physical_devices('GPU')\n",
        "if physical_devices:\n",
        "    tf.config.experimental.set_memory_growth(physical_devices[0], True)"
      ]
    },
    {
      "cell_type": "code",
      "execution_count": 9,
      "metadata": {
        "id": "JDD2bazIjICE"
      },
      "outputs": [],
      "source": [
        "# load the dataset into pandas dataframe\n",
        "df = pd.read_csv('/content/Twitter_Data.csv').sample(n=10000, random_state=100)\n",
        "tp = TextPreprocessing(df)"
      ]
    },
    {
      "cell_type": "markdown",
      "metadata": {
        "id": "AVRzBfjxjICE"
      },
      "source": [
        "### 2. explore dataset"
      ]
    },
    {
      "cell_type": "code",
      "execution_count": 10,
      "metadata": {
        "colab": {
          "base_uri": "https://localhost:8080/"
        },
        "id": "i8cL6KiLjICE",
        "outputId": "fb9160b0-a7ca-49f7-ce4d-b288acea7b7e"
      },
      "outputs": [
        {
          "name": "stdout",
          "output_type": "stream",
          "text": [
            "<class 'pandas.core.frame.DataFrame'>\n",
            "Int64Index: 10000 entries, 140494 to 139079\n",
            "Data columns (total 2 columns):\n",
            " #   Column      Non-Null Count  Dtype  \n",
            "---  ------      --------------  -----  \n",
            " 0   clean_text  10000 non-null  object \n",
            " 1   category    10000 non-null  float64\n",
            "dtypes: float64(1), object(1)\n",
            "memory usage: 234.4+ KB\n"
          ]
        }
      ],
      "source": [
        "# overall info\n",
        "tp.dataset.info()"
      ]
    },
    {
      "cell_type": "code",
      "execution_count": 11,
      "metadata": {
        "colab": {
          "base_uri": "https://localhost:8080/",
          "height": 300
        },
        "id": "itMMRb6yjICE",
        "outputId": "1ea21349-5332-4f34-b401-1a5ea44e8e3f"
      },
      "outputs": [
        {
          "data": {
            "text/html": [
              "\n",
              "  <div id=\"df-37f31ad3-88a2-4768-8c53-e6d3cc4b01cd\" class=\"colab-df-container\">\n",
              "    <div>\n",
              "<style scoped>\n",
              "    .dataframe tbody tr th:only-of-type {\n",
              "        vertical-align: middle;\n",
              "    }\n",
              "\n",
              "    .dataframe tbody tr th {\n",
              "        vertical-align: top;\n",
              "    }\n",
              "\n",
              "    .dataframe thead th {\n",
              "        text-align: right;\n",
              "    }\n",
              "</style>\n",
              "<table border=\"1\" class=\"dataframe\">\n",
              "  <thead>\n",
              "    <tr style=\"text-align: right;\">\n",
              "      <th></th>\n",
              "      <th>category</th>\n",
              "    </tr>\n",
              "  </thead>\n",
              "  <tbody>\n",
              "    <tr>\n",
              "      <th>count</th>\n",
              "      <td>10000.000000</td>\n",
              "    </tr>\n",
              "    <tr>\n",
              "      <th>mean</th>\n",
              "      <td>0.215400</td>\n",
              "    </tr>\n",
              "    <tr>\n",
              "      <th>std</th>\n",
              "      <td>0.780682</td>\n",
              "    </tr>\n",
              "    <tr>\n",
              "      <th>min</th>\n",
              "      <td>-1.000000</td>\n",
              "    </tr>\n",
              "    <tr>\n",
              "      <th>25%</th>\n",
              "      <td>0.000000</td>\n",
              "    </tr>\n",
              "    <tr>\n",
              "      <th>50%</th>\n",
              "      <td>0.000000</td>\n",
              "    </tr>\n",
              "    <tr>\n",
              "      <th>75%</th>\n",
              "      <td>1.000000</td>\n",
              "    </tr>\n",
              "    <tr>\n",
              "      <th>max</th>\n",
              "      <td>1.000000</td>\n",
              "    </tr>\n",
              "  </tbody>\n",
              "</table>\n",
              "</div>\n",
              "    <div class=\"colab-df-buttons\">\n",
              "\n",
              "  <div class=\"colab-df-container\">\n",
              "    <button class=\"colab-df-convert\" onclick=\"convertToInteractive('df-37f31ad3-88a2-4768-8c53-e6d3cc4b01cd')\"\n",
              "            title=\"Convert this dataframe to an interactive table.\"\n",
              "            style=\"display:none;\">\n",
              "\n",
              "  <svg xmlns=\"http://www.w3.org/2000/svg\" height=\"24px\" viewBox=\"0 -960 960 960\">\n",
              "    <path d=\"M120-120v-720h720v720H120Zm60-500h600v-160H180v160Zm220 220h160v-160H400v160Zm0 220h160v-160H400v160ZM180-400h160v-160H180v160Zm440 0h160v-160H620v160ZM180-180h160v-160H180v160Zm440 0h160v-160H620v160Z\"/>\n",
              "  </svg>\n",
              "    </button>\n",
              "\n",
              "  <style>\n",
              "    .colab-df-container {\n",
              "      display:flex;\n",
              "      gap: 12px;\n",
              "    }\n",
              "\n",
              "    .colab-df-convert {\n",
              "      background-color: #E8F0FE;\n",
              "      border: none;\n",
              "      border-radius: 50%;\n",
              "      cursor: pointer;\n",
              "      display: none;\n",
              "      fill: #1967D2;\n",
              "      height: 32px;\n",
              "      padding: 0 0 0 0;\n",
              "      width: 32px;\n",
              "    }\n",
              "\n",
              "    .colab-df-convert:hover {\n",
              "      background-color: #E2EBFA;\n",
              "      box-shadow: 0px 1px 2px rgba(60, 64, 67, 0.3), 0px 1px 3px 1px rgba(60, 64, 67, 0.15);\n",
              "      fill: #174EA6;\n",
              "    }\n",
              "\n",
              "    .colab-df-buttons div {\n",
              "      margin-bottom: 4px;\n",
              "    }\n",
              "\n",
              "    [theme=dark] .colab-df-convert {\n",
              "      background-color: #3B4455;\n",
              "      fill: #D2E3FC;\n",
              "    }\n",
              "\n",
              "    [theme=dark] .colab-df-convert:hover {\n",
              "      background-color: #434B5C;\n",
              "      box-shadow: 0px 1px 3px 1px rgba(0, 0, 0, 0.15);\n",
              "      filter: drop-shadow(0px 1px 2px rgba(0, 0, 0, 0.3));\n",
              "      fill: #FFFFFF;\n",
              "    }\n",
              "  </style>\n",
              "\n",
              "    <script>\n",
              "      const buttonEl =\n",
              "        document.querySelector('#df-37f31ad3-88a2-4768-8c53-e6d3cc4b01cd button.colab-df-convert');\n",
              "      buttonEl.style.display =\n",
              "        google.colab.kernel.accessAllowed ? 'block' : 'none';\n",
              "\n",
              "      async function convertToInteractive(key) {\n",
              "        const element = document.querySelector('#df-37f31ad3-88a2-4768-8c53-e6d3cc4b01cd');\n",
              "        const dataTable =\n",
              "          await google.colab.kernel.invokeFunction('convertToInteractive',\n",
              "                                                    [key], {});\n",
              "        if (!dataTable) return;\n",
              "\n",
              "        const docLinkHtml = 'Like what you see? Visit the ' +\n",
              "          '<a target=\"_blank\" href=https://colab.research.google.com/notebooks/data_table.ipynb>data table notebook</a>'\n",
              "          + ' to learn more about interactive tables.';\n",
              "        element.innerHTML = '';\n",
              "        dataTable['output_type'] = 'display_data';\n",
              "        await google.colab.output.renderOutput(dataTable, element);\n",
              "        const docLink = document.createElement('div');\n",
              "        docLink.innerHTML = docLinkHtml;\n",
              "        element.appendChild(docLink);\n",
              "      }\n",
              "    </script>\n",
              "  </div>\n",
              "\n",
              "\n",
              "<div id=\"df-4118be68-43e6-43a4-ac4e-26110d8570c3\">\n",
              "  <button class=\"colab-df-quickchart\" onclick=\"quickchart('df-4118be68-43e6-43a4-ac4e-26110d8570c3')\"\n",
              "            title=\"Suggest charts\"\n",
              "            style=\"display:none;\">\n",
              "\n",
              "<svg xmlns=\"http://www.w3.org/2000/svg\" height=\"24px\"viewBox=\"0 0 24 24\"\n",
              "     width=\"24px\">\n",
              "    <g>\n",
              "        <path d=\"M19 3H5c-1.1 0-2 .9-2 2v14c0 1.1.9 2 2 2h14c1.1 0 2-.9 2-2V5c0-1.1-.9-2-2-2zM9 17H7v-7h2v7zm4 0h-2V7h2v10zm4 0h-2v-4h2v4z\"/>\n",
              "    </g>\n",
              "</svg>\n",
              "  </button>\n",
              "\n",
              "<style>\n",
              "  .colab-df-quickchart {\n",
              "      --bg-color: #E8F0FE;\n",
              "      --fill-color: #1967D2;\n",
              "      --hover-bg-color: #E2EBFA;\n",
              "      --hover-fill-color: #174EA6;\n",
              "      --disabled-fill-color: #AAA;\n",
              "      --disabled-bg-color: #DDD;\n",
              "  }\n",
              "\n",
              "  [theme=dark] .colab-df-quickchart {\n",
              "      --bg-color: #3B4455;\n",
              "      --fill-color: #D2E3FC;\n",
              "      --hover-bg-color: #434B5C;\n",
              "      --hover-fill-color: #FFFFFF;\n",
              "      --disabled-bg-color: #3B4455;\n",
              "      --disabled-fill-color: #666;\n",
              "  }\n",
              "\n",
              "  .colab-df-quickchart {\n",
              "    background-color: var(--bg-color);\n",
              "    border: none;\n",
              "    border-radius: 50%;\n",
              "    cursor: pointer;\n",
              "    display: none;\n",
              "    fill: var(--fill-color);\n",
              "    height: 32px;\n",
              "    padding: 0;\n",
              "    width: 32px;\n",
              "  }\n",
              "\n",
              "  .colab-df-quickchart:hover {\n",
              "    background-color: var(--hover-bg-color);\n",
              "    box-shadow: 0 1px 2px rgba(60, 64, 67, 0.3), 0 1px 3px 1px rgba(60, 64, 67, 0.15);\n",
              "    fill: var(--button-hover-fill-color);\n",
              "  }\n",
              "\n",
              "  .colab-df-quickchart-complete:disabled,\n",
              "  .colab-df-quickchart-complete:disabled:hover {\n",
              "    background-color: var(--disabled-bg-color);\n",
              "    fill: var(--disabled-fill-color);\n",
              "    box-shadow: none;\n",
              "  }\n",
              "\n",
              "  .colab-df-spinner {\n",
              "    border: 2px solid var(--fill-color);\n",
              "    border-color: transparent;\n",
              "    border-bottom-color: var(--fill-color);\n",
              "    animation:\n",
              "      spin 1s steps(1) infinite;\n",
              "  }\n",
              "\n",
              "  @keyframes spin {\n",
              "    0% {\n",
              "      border-color: transparent;\n",
              "      border-bottom-color: var(--fill-color);\n",
              "      border-left-color: var(--fill-color);\n",
              "    }\n",
              "    20% {\n",
              "      border-color: transparent;\n",
              "      border-left-color: var(--fill-color);\n",
              "      border-top-color: var(--fill-color);\n",
              "    }\n",
              "    30% {\n",
              "      border-color: transparent;\n",
              "      border-left-color: var(--fill-color);\n",
              "      border-top-color: var(--fill-color);\n",
              "      border-right-color: var(--fill-color);\n",
              "    }\n",
              "    40% {\n",
              "      border-color: transparent;\n",
              "      border-right-color: var(--fill-color);\n",
              "      border-top-color: var(--fill-color);\n",
              "    }\n",
              "    60% {\n",
              "      border-color: transparent;\n",
              "      border-right-color: var(--fill-color);\n",
              "    }\n",
              "    80% {\n",
              "      border-color: transparent;\n",
              "      border-right-color: var(--fill-color);\n",
              "      border-bottom-color: var(--fill-color);\n",
              "    }\n",
              "    90% {\n",
              "      border-color: transparent;\n",
              "      border-bottom-color: var(--fill-color);\n",
              "    }\n",
              "  }\n",
              "</style>\n",
              "\n",
              "  <script>\n",
              "    async function quickchart(key) {\n",
              "      const quickchartButtonEl =\n",
              "        document.querySelector('#' + key + ' button');\n",
              "      quickchartButtonEl.disabled = true;  // To prevent multiple clicks.\n",
              "      quickchartButtonEl.classList.add('colab-df-spinner');\n",
              "      try {\n",
              "        const charts = await google.colab.kernel.invokeFunction(\n",
              "            'suggestCharts', [key], {});\n",
              "      } catch (error) {\n",
              "        console.error('Error during call to suggestCharts:', error);\n",
              "      }\n",
              "      quickchartButtonEl.classList.remove('colab-df-spinner');\n",
              "      quickchartButtonEl.classList.add('colab-df-quickchart-complete');\n",
              "    }\n",
              "    (() => {\n",
              "      let quickchartButtonEl =\n",
              "        document.querySelector('#df-4118be68-43e6-43a4-ac4e-26110d8570c3 button');\n",
              "      quickchartButtonEl.style.display =\n",
              "        google.colab.kernel.accessAllowed ? 'block' : 'none';\n",
              "    })();\n",
              "  </script>\n",
              "</div>\n",
              "\n",
              "    </div>\n",
              "  </div>\n"
            ],
            "text/plain": [
              "           category\n",
              "count  10000.000000\n",
              "mean       0.215400\n",
              "std        0.780682\n",
              "min       -1.000000\n",
              "25%        0.000000\n",
              "50%        0.000000\n",
              "75%        1.000000\n",
              "max        1.000000"
            ]
          },
          "execution_count": 11,
          "metadata": {},
          "output_type": "execute_result"
        }
      ],
      "source": [
        "tp.convert_category_to_int()\n",
        "tp.dataset.describe()"
      ]
    },
    {
      "cell_type": "markdown",
      "metadata": {
        "id": "ibYZcCqQjICE"
      },
      "source": [
        "### 3. Preprocessing data"
      ]
    },
    {
      "cell_type": "code",
      "execution_count": 12,
      "metadata": {
        "colab": {
          "base_uri": "https://localhost:8080/"
        },
        "id": "4zxsYjnfjICE",
        "outputId": "d305698e-1178-49e4-f1cd-8611d2cd9f10"
      },
      "outputs": [
        {
          "data": {
            "text/plain": [
              "clean_text    0\n",
              "category      0\n",
              "dtype: int64"
            ]
          },
          "execution_count": 12,
          "metadata": {},
          "output_type": "execute_result"
        }
      ],
      "source": [
        "# check null values\n",
        "tp.dataset.isnull().sum()"
      ]
    },
    {
      "cell_type": "code",
      "execution_count": 13,
      "metadata": {
        "colab": {
          "base_uri": "https://localhost:8080/",
          "height": 53
        },
        "id": "dCo-bH_-jICE",
        "outputId": "1e0d65a8-7e1a-4943-fd92-09722917b91e"
      },
      "outputs": [
        {
          "data": {
            "text/html": [
              "\n",
              "  <div id=\"df-1c8e041c-91aa-444f-8042-0ceb78c04d40\" class=\"colab-df-container\">\n",
              "    <div>\n",
              "<style scoped>\n",
              "    .dataframe tbody tr th:only-of-type {\n",
              "        vertical-align: middle;\n",
              "    }\n",
              "\n",
              "    .dataframe tbody tr th {\n",
              "        vertical-align: top;\n",
              "    }\n",
              "\n",
              "    .dataframe thead th {\n",
              "        text-align: right;\n",
              "    }\n",
              "</style>\n",
              "<table border=\"1\" class=\"dataframe\">\n",
              "  <thead>\n",
              "    <tr style=\"text-align: right;\">\n",
              "      <th></th>\n",
              "      <th>clean_text</th>\n",
              "      <th>category</th>\n",
              "    </tr>\n",
              "  </thead>\n",
              "  <tbody>\n",
              "  </tbody>\n",
              "</table>\n",
              "</div>\n",
              "    <div class=\"colab-df-buttons\">\n",
              "\n",
              "  <div class=\"colab-df-container\">\n",
              "    <button class=\"colab-df-convert\" onclick=\"convertToInteractive('df-1c8e041c-91aa-444f-8042-0ceb78c04d40')\"\n",
              "            title=\"Convert this dataframe to an interactive table.\"\n",
              "            style=\"display:none;\">\n",
              "\n",
              "  <svg xmlns=\"http://www.w3.org/2000/svg\" height=\"24px\" viewBox=\"0 -960 960 960\">\n",
              "    <path d=\"M120-120v-720h720v720H120Zm60-500h600v-160H180v160Zm220 220h160v-160H400v160Zm0 220h160v-160H400v160ZM180-400h160v-160H180v160Zm440 0h160v-160H620v160ZM180-180h160v-160H180v160Zm440 0h160v-160H620v160Z\"/>\n",
              "  </svg>\n",
              "    </button>\n",
              "\n",
              "  <style>\n",
              "    .colab-df-container {\n",
              "      display:flex;\n",
              "      gap: 12px;\n",
              "    }\n",
              "\n",
              "    .colab-df-convert {\n",
              "      background-color: #E8F0FE;\n",
              "      border: none;\n",
              "      border-radius: 50%;\n",
              "      cursor: pointer;\n",
              "      display: none;\n",
              "      fill: #1967D2;\n",
              "      height: 32px;\n",
              "      padding: 0 0 0 0;\n",
              "      width: 32px;\n",
              "    }\n",
              "\n",
              "    .colab-df-convert:hover {\n",
              "      background-color: #E2EBFA;\n",
              "      box-shadow: 0px 1px 2px rgba(60, 64, 67, 0.3), 0px 1px 3px 1px rgba(60, 64, 67, 0.15);\n",
              "      fill: #174EA6;\n",
              "    }\n",
              "\n",
              "    .colab-df-buttons div {\n",
              "      margin-bottom: 4px;\n",
              "    }\n",
              "\n",
              "    [theme=dark] .colab-df-convert {\n",
              "      background-color: #3B4455;\n",
              "      fill: #D2E3FC;\n",
              "    }\n",
              "\n",
              "    [theme=dark] .colab-df-convert:hover {\n",
              "      background-color: #434B5C;\n",
              "      box-shadow: 0px 1px 3px 1px rgba(0, 0, 0, 0.15);\n",
              "      filter: drop-shadow(0px 1px 2px rgba(0, 0, 0, 0.3));\n",
              "      fill: #FFFFFF;\n",
              "    }\n",
              "  </style>\n",
              "\n",
              "    <script>\n",
              "      const buttonEl =\n",
              "        document.querySelector('#df-1c8e041c-91aa-444f-8042-0ceb78c04d40 button.colab-df-convert');\n",
              "      buttonEl.style.display =\n",
              "        google.colab.kernel.accessAllowed ? 'block' : 'none';\n",
              "\n",
              "      async function convertToInteractive(key) {\n",
              "        const element = document.querySelector('#df-1c8e041c-91aa-444f-8042-0ceb78c04d40');\n",
              "        const dataTable =\n",
              "          await google.colab.kernel.invokeFunction('convertToInteractive',\n",
              "                                                    [key], {});\n",
              "        if (!dataTable) return;\n",
              "\n",
              "        const docLinkHtml = 'Like what you see? Visit the ' +\n",
              "          '<a target=\"_blank\" href=https://colab.research.google.com/notebooks/data_table.ipynb>data table notebook</a>'\n",
              "          + ' to learn more about interactive tables.';\n",
              "        element.innerHTML = '';\n",
              "        dataTable['output_type'] = 'display_data';\n",
              "        await google.colab.output.renderOutput(dataTable, element);\n",
              "        const docLink = document.createElement('div');\n",
              "        docLink.innerHTML = docLinkHtml;\n",
              "        element.appendChild(docLink);\n",
              "      }\n",
              "    </script>\n",
              "  </div>\n",
              "\n",
              "\n",
              "    </div>\n",
              "  </div>\n"
            ],
            "text/plain": [
              "Empty DataFrame\n",
              "Columns: [clean_text, category]\n",
              "Index: []"
            ]
          },
          "execution_count": 13,
          "metadata": {},
          "output_type": "execute_result"
        }
      ],
      "source": [
        "# list null values of category\n",
        "tp.dataset[tp.dataset['category'].isnull()]"
      ]
    },
    {
      "cell_type": "code",
      "execution_count": 14,
      "metadata": {
        "id": "Moi8E7oHjICF"
      },
      "outputs": [],
      "source": [
        "# drop null rows, as those contents don't make sense\n",
        "tp.drop_rows(cols=('clean_text', 'category'))"
      ]
    },
    {
      "cell_type": "code",
      "execution_count": 15,
      "metadata": {
        "colab": {
          "base_uri": "https://localhost:8080/"
        },
        "id": "ZR5De6v4jICF",
        "outputId": "85222db6-96d0-4615-b182-bc86d42655ad"
      },
      "outputs": [
        {
          "data": {
            "text/plain": [
              " 1    4356\n",
              " 0    3442\n",
              "-1    2202\n",
              "Name: category, dtype: int64"
            ]
          },
          "execution_count": 15,
          "metadata": {},
          "output_type": "execute_result"
        }
      ],
      "source": [
        "tp.dataset.category.value_counts()"
      ]
    },
    {
      "cell_type": "code",
      "execution_count": 16,
      "metadata": {
        "colab": {
          "base_uri": "https://localhost:8080/",
          "height": 442
        },
        "id": "ur4UL8J7jICF",
        "outputId": "355f52ac-ac41-4f88-88a8-3a9d93e7da9e"
      },
      "outputs": [
        {
          "data": {
            "text/plain": [
              "<Axes: >"
            ]
          },
          "execution_count": 16,
          "metadata": {},
          "output_type": "execute_result"
        },
        {
          "data": {
            "image/png": "[encoded data removed]",
            "text/plain": [
              "<Figure size 640x480 with 1 Axes>"
            ]
          },
          "metadata": {},
          "output_type": "display_data"
        }
      ],
      "source": [
        "# update category values from -1, 0, 1 to 0,1, 2\n",
        "tp.update_label_values()\n",
        "tp.dataset.category.value_counts().plot(kind='bar')"
      ]
    },
    {
      "cell_type": "code",
      "execution_count": 17,
      "metadata": {
        "id": "vgbCN77ZjICF"
      },
      "outputs": [],
      "source": [
        "# tp.text_processing(cols=('clean_text',))\n",
        "tp.create_text_length(col='clean_text')"
      ]
    },
    {
      "cell_type": "markdown",
      "metadata": {
        "id": "n6UTBNDUjICF"
      },
      "source": [
        "#### plot the distribution of text length and we can say a max_length = 270 would be suffice."
      ]
    },
    {
      "cell_type": "code",
      "execution_count": 18,
      "metadata": {
        "colab": {
          "base_uri": "https://localhost:8080/",
          "height": 523
        },
        "id": "RI4KxjPojICF",
        "outputId": "17cbd277-1d47-4dbc-ab52-fd35896d8683"
      },
      "outputs": [
        {
          "data": {
            "text/plain": [
              "<seaborn.axisgrid.FacetGrid at 0x7a68b8c250f0>"
            ]
          },
          "execution_count": 18,
          "metadata": {},
          "output_type": "execute_result"
        },
        {
          "data": {
            "image/png": "[encoded data removed]",
            "text/plain": [
              "<Figure size 500x500 with 1 Axes>"
            ]
          },
          "metadata": {},
          "output_type": "display_data"
        }
      ],
      "source": [
        "# plot the text length ditribution\n",
        "sns.displot(tp.dataset.text_length, kde=True, bins=25)"
      ]
    },
    {
      "cell_type": "code",
      "execution_count": 19,
      "metadata": {
        "id": "UPBEHwIDjICF"
      },
      "outputs": [],
      "source": [
        "# preprocessing data and split train and test datasets\n",
        "# X_train_padded, X_test_padded = tp.data_preprcoessing()\n",
        "tp.text_processing('clean_text')"
      ]
    },
    {
      "cell_type": "markdown",
      "metadata": {
        "id": "s06FAz46jICF"
      },
      "source": [
        "### 4. Load the pretrained model and prepare tensor dataset for training"
      ]
    },
    {
      "cell_type": "code",
      "execution_count": 20,
      "metadata": {
        "colab": {
          "base_uri": "https://localhost:8080/",
          "height": 249,
          "referenced_widgets": [
            "e1d2a360c27649c59710680f2d0a34fb",
            "b77100a0121c4a9e987abed7a8d8b521",
            "a7940475e7764ebbb778f89a103408a6",
            "31f9e038e1ae4a08951faa342043cc58",
            "a8b10f0cbb9b4d45b6b9d4c34b0a5d3b",
            "e74c5c90078744f6a203f7f40acce4f1",
            "c9588c0f837640a59baf807ffdc77a9b",
            "20483ad4a0fb4d20bb97cd33835d6849",
            "b09794460cb54dbba2c64b5ebbeca7e1",
            "a3f33a36a845479e8ca6c82a40ced314",
            "166e5daee08b4984b527636a3f38ba25",
            "b7ea5ca93ec94e11ad33b7a8f44c2bcf",
            "06b41dc468734b6e895ade1708534d82",
            "8007987ae53546e987fc3fd625bfbd8c",
            "aa3205186e9f47478689af50e6da97d6",
            "d3b4501cb2344b8b88aeca741e0a8786",
            "31550376df48440c8c98769bb9431d5f",
            "b861147e273d4317bc535dd93cf56e08",
            "c037bb3bbb7341bfa305c72fc8e6d85c",
            "4b7879c698944151af01ee6605f910b4",
            "0adbe5882497496cb364582e62300486",
            "354c40648dc74065b8cb5cecbce34147",
            "179409e298b241288643ee3725aa21e4",
            "c47b2627221a4bf183aff4dd96ca06d4",
            "920041d45a7a41c7873fe647dd2a0e1f",
            "daeb02b629c0401eb42203f19ce7a996",
            "14b591b96420428f800378928b786d03",
            "138a079681b14b15a6b4d660af6ee056",
            "65900d4ac7754b808a357791557d732a",
            "4b7c9339785848f384639be9ad1bac78",
            "694fd1f47da947e1b6bf3d48611edeb2",
            "8b2eb1da36af49e38485874a15e3925d",
            "087c8c8eb8e744f09d0ff87fca35fc36",
            "124d8a0609fe4b9c9f42d78c727e7ca0",
            "d3be09133bbe4013ad029a3ae5eb0e06",
            "59efcfa73a1f43fe8abdc75ac64c423c",
            "6b83dfaca41a4af889b7ae511df1be9c",
            "170dc6ea233d427792d72a984f9829db",
            "877f6ed9d48a490ba76b8034f411f115",
            "38b45556eeb9454bb95fa896c500886f",
            "0cbc79aac4f6473ab7415c624a10f084",
            "34b657cf986f4c8c897e8e072814df3c",
            "1aec2a7f3cf343e4add24efed9e9f361",
            "3d2479005fa8431f8ec2d0194a466488"
          ]
        },
        "id": "j6kGb4GBjICG",
        "outputId": "02fea854-c3ac-4c58-910e-d065fa594ad8"
      },
      "outputs": [
        {
          "name": "stderr",
          "output_type": "stream",
          "text": [
            "/usr/local/lib/python3.10/dist-packages/huggingface_hub/utils/_token.py:88: UserWarning: \n",
            "The secret `HF_TOKEN` does not exist in your Colab secrets.\n",
            "To authenticate with the Hugging Face Hub, create a token in your settings tab (https://huggingface.co/settings/tokens), set it as secret in your Google Colab and restart your session.\n",
            "You will be able to reuse this secret in all of your notebooks.\n",
            "Please note that authentication is recommended but still optional to access public models or datasets.\n",
            "  warnings.warn(\n"
          ]
        },
        {
          "data": {
            "application/vnd.jupyter.widget-view+json": {
              "model_id": "e1d2a360c27649c59710680f2d0a34fb",
              "version_major": 2,
              "version_minor": 0
            },
            "text/plain": [
              "tokenizer_config.json:   0%|          | 0.00/28.0 [00:00<?, ?B/s]"
            ]
          },
          "metadata": {},
          "output_type": "display_data"
        },
        {
          "data": {
            "application/vnd.jupyter.widget-view+json": {
              "model_id": "b7ea5ca93ec94e11ad33b7a8f44c2bcf",
              "version_major": 2,
              "version_minor": 0
            },
            "text/plain": [
              "vocab.txt:   0%|          | 0.00/232k [00:00<?, ?B/s]"
            ]
          },
          "metadata": {},
          "output_type": "display_data"
        },
        {
          "data": {
            "application/vnd.jupyter.widget-view+json": {
              "model_id": "179409e298b241288643ee3725aa21e4",
              "version_major": 2,
              "version_minor": 0
            },
            "text/plain": [
              "tokenizer.json:   0%|          | 0.00/466k [00:00<?, ?B/s]"
            ]
          },
          "metadata": {},
          "output_type": "display_data"
        },
        {
          "data": {
            "application/vnd.jupyter.widget-view+json": {
              "model_id": "124d8a0609fe4b9c9f42d78c727e7ca0",
              "version_major": 2,
              "version_minor": 0
            },
            "text/plain": [
              "config.json:   0%|          | 0.00/570 [00:00<?, ?B/s]"
            ]
          },
          "metadata": {},
          "output_type": "display_data"
        }
      ],
      "source": [
        "model_id=\"bert-base-uncased\"\n",
        "tokenizer = BertTokenizerFast.from_pretrained(model_id)\n",
        "# tokenizer = AutoTokenizer.from_pretrained(model_id)\n",
        "max_length = tp.dataset.text_length.max()\n",
        "batch_size = 8"
      ]
    },
    {
      "cell_type": "code",
      "execution_count": 21,
      "metadata": {
        "id": "yJtUeJUojICG"
      },
      "outputs": [],
      "source": [
        "train_ds, val_ds, test_ds = tp.data_preprocessing(tokenizer, max_length=max_length, batch_size=batch_size)"
      ]
    },
    {
      "cell_type": "markdown",
      "metadata": {
        "id": "V-O_fdlajICG"
      },
      "source": [
        "### 5. Modelling using TFBertForSequenceClassification"
      ]
    },
    {
      "cell_type": "code",
      "execution_count": 22,
      "metadata": {
        "colab": {
          "base_uri": "https://localhost:8080/",
          "height": 396,
          "referenced_widgets": [
            "fa2eb321778b42b88fd44eaed4e216eb",
            "f3e49998ff3744debb5e132447c1750b",
            "2393aec565bf4de0896399c4d1c9215a",
            "3297abeadb3d492c86fdffcb36210797",
            "2e2b2df632294ccab9e75a929437141e",
            "da942d18fa8546d9b340a342be8ff6a5",
            "0a894f200a8247b28cb5f76ab4353d91",
            "f93ff42119804d8a82f18af0baf738ff",
            "ef602d400c544c8c9abef3ed96a9504f",
            "78d660e85ee14236918a0eddf8bd40a0",
            "a3d8ea70fbf54383a87b6bc2083e740c"
          ]
        },
        "id": "xSIe5twHjICG",
        "outputId": "7e1fa426-96e3-4396-8b72-547645c5379a"
      },
      "outputs": [
        {
          "data": {
            "application/vnd.jupyter.widget-view+json": {
              "model_id": "fa2eb321778b42b88fd44eaed4e216eb",
              "version_major": 2,
              "version_minor": 0
            },
            "text/plain": [
              "model.safetensors:   0%|          | 0.00/440M [00:00<?, ?B/s]"
            ]
          },
          "metadata": {},
          "output_type": "display_data"
        },
        {
          "name": "stderr",
          "output_type": "stream",
          "text": [
            "All PyTorch model weights were used when initializing TFBertForSequenceClassification.\n",
            "\n",
            "Some weights or buffers of the TF 2.0 model TFBertForSequenceClassification were not initialized from the PyTorch model and are newly initialized: ['classifier.weight', 'classifier.bias']\n",
            "You should probably TRAIN this model on a down-stream task to be able to use it for predictions and inference.\n"
          ]
        },
        {
          "name": "stdout",
          "output_type": "stream",
          "text": [
            "<keras.src.layers.core.dense.Dense object at 0x7a6878900910>\n",
            "Model: \"tf_bert_for_sequence_classification\"\n",
            "_________________________________________________________________\n",
            " Layer (type)                Output Shape              Param #   \n",
            "=================================================================\n",
            " bert (TFBertMainLayer)      multiple                  109482240 \n",
            "                                                                 \n",
            " dropout_37 (Dropout)        multiple                  0         \n",
            "                                                                 \n",
            " classifier (Dense)          multiple                  2307      \n",
            "                                                                 \n",
            "=================================================================\n",
            "Total params: 109484547 (417.65 MB)\n",
            "Trainable params: 2307 (9.01 KB)\n",
            "Non-trainable params: 109482240 (417.64 MB)\n",
            "_________________________________________________________________\n"
          ]
        }
      ],
      "source": [
        "# Define your custom id2label mapping\n",
        "original_config = BertConfig.from_pretrained(model_id,\n",
        "                                             id2label=tp.id2labels,\n",
        "                                             label2id=tp.labels2id)\n",
        "pretrained_model=TFBertForSequenceClassification.from_pretrained(model_id, config=original_config)\n",
        "# Freeze all layers except the last layers for fine-tuning\n",
        "for layer in pretrained_model.layers[:-2]:\n",
        "    layer.trainable = False\n",
        "\n",
        "# pretrained_model.trainable = False\n",
        "# The output layer is accessible through the model's classifier attribute\n",
        "output_layer = pretrained_model.classifier\n",
        "print(output_layer)\n",
        "# You can inspect the details of the output layer\n",
        "pretrained_model.summary()"
      ]
    },
    {
      "cell_type": "code",
      "execution_count": 23,
      "metadata": {
        "colab": {
          "base_uri": "https://localhost:8080/"
        },
        "id": "IdSxBcCYdsPo",
        "outputId": "c252638c-110e-4eee-810b-78b5c7a6e5c8"
      },
      "outputs": [
        {
          "name": "stderr",
          "output_type": "stream",
          "text": [
            "WARNING:tensorflow:Layer lstm_2 will not use cuDNN kernels since it doesn't meet the criteria. It will use a generic GPU kernel as fallback when running on GPU.\n"
          ]
        }
      ],
      "source": [
        "custom_model = SentimentAnalysisModel(pretrained_model=pretrained_model, units=3)"
      ]
    },
    {
      "cell_type": "markdown",
      "metadata": {
        "id": "cDN8axxEjICG"
      },
      "source": [
        "### 6. Training"
      ]
    },
    {
      "cell_type": "code",
      "execution_count": 24,
      "metadata": {
        "id": "h6vQcw9gjICG"
      },
      "outputs": [],
      "source": [
        "num_epochs = 1000\n",
        "batches_per_epoch = len(tp.train_dataset) // batch_size\n",
        "total_train_steps = int(batches_per_epoch * num_epochs)"
      ]
    },
    {
      "cell_type": "markdown",
      "metadata": {
        "id": "EwjZAYsIjICG"
      },
      "source": [
        "### 7. compile the model"
      ]
    },
    {
      "cell_type": "code",
      "execution_count": 34,
      "metadata": {
        "id": "2Drw_t_hjICG"
      },
      "outputs": [],
      "source": [
        "learning_rate = 3e-5\n",
        "custom_model.compile(optimizer=keras.optimizers.legacy.Adam(learning_rate=learning_rate),\n",
        "              loss=keras.losses.SparseCategoricalCrossentropy(),\n",
        "              metrics=['accuracy'])"
      ]
    },
    {
      "cell_type": "code",
      "execution_count": 35,
      "metadata": {
        "colab": {
          "base_uri": "https://localhost:8080/"
        },
        "id": "CV9UsbCdnAmk",
        "outputId": "46d68672-a344-48db-df28-4317e3b7ece3"
      },
      "outputs": [
        {
          "name": "stdout",
          "output_type": "stream",
          "text": [
            "{'units': 3}\n"
          ]
        }
      ],
      "source": [
        "# print(custom_model.config)\n",
        "\n",
        "model_config = custom_model.get_config()\n",
        "print(model_config)"
      ]
    },
    {
      "cell_type": "markdown",
      "metadata": {
        "id": "XevINqBbjICG"
      },
      "source": [
        "### 8. train the model"
      ]
    },
    {
      "cell_type": "code",
      "execution_count": 36,
      "metadata": {
        "id": "kM3_DU4FjICG"
      },
      "outputs": [],
      "source": [
        "# print(pretrained_model.config)"
      ]
    },
    {
      "cell_type": "code",
      "execution_count": 37,
      "metadata": {
        "colab": {
          "base_uri": "https://localhost:8080/"
        },
        "id": "YVqU1cJojICH",
        "outputId": "26ce80a9-3943-410d-a9f6-c63b09d6cf52"
      },
      "outputs": [
        {
          "name": "stdout",
          "output_type": "stream",
          "text": [
            "Epoch 1/1000\n",
            "\n",
            "Epoch: 1  Loss: 0.942858099937439\n",
            "1013/1013 - 99s - loss: 0.9429 - accuracy: 0.5494 - val_loss: 0.9360 - val_accuracy: 0.5433 - 99s/epoch - 97ms/step\n",
            "Epoch 2/1000\n",
            "\n",
            "Epoch: 2  Loss: 0.9416452646255493\n",
            "1013/1013 - 71s - loss: 0.9416 - accuracy: 0.5506 - val_loss: 0.9375 - val_accuracy: 0.5433 - 71s/epoch - 70ms/step\n",
            "Epoch 3/1000\n",
            "\n",
            "Epoch: 3  Loss: 0.944564163684845\n",
            "1013/1013 - 70s - loss: 0.9446 - accuracy: 0.5489 - val_loss: 0.9386 - val_accuracy: 0.5422 - 70s/epoch - 70ms/step\n",
            "Epoch 4/1000\n",
            "\n",
            "Epoch: 4  Loss: 0.9368231892585754\n",
            "1013/1013 - 71s - loss: 0.9368 - accuracy: 0.5525 - val_loss: 0.9178 - val_accuracy: 0.5533 - 71s/epoch - 70ms/step\n",
            "Epoch 5/1000\n",
            "\n",
            "Epoch: 5  Loss: 0.9361568093299866\n",
            "1013/1013 - 76s - loss: 0.9362 - accuracy: 0.5543 - val_loss: 0.9405 - val_accuracy: 0.5367 - 76s/epoch - 75ms/step\n",
            "Epoch 6/1000\n",
            "\n",
            "Epoch: 6  Loss: 0.9358121752738953\n",
            "1013/1013 - 71s - loss: 0.9358 - accuracy: 0.5525 - val_loss: 0.9166 - val_accuracy: 0.5544 - 71s/epoch - 70ms/step\n",
            "Epoch 7/1000\n",
            "\n",
            "Epoch: 7  Loss: 0.936581015586853\n",
            "1013/1013 - 70s - loss: 0.9366 - accuracy: 0.5531 - val_loss: 0.9260 - val_accuracy: 0.5478 - 70s/epoch - 69ms/step\n",
            "Epoch 8/1000\n",
            "\n",
            "Epoch: 8  Loss: 0.9401835799217224\n",
            "1013/1013 - 70s - loss: 0.9402 - accuracy: 0.5479 - val_loss: 0.9277 - val_accuracy: 0.5522 - 70s/epoch - 69ms/step\n",
            "Epoch 9/1000\n",
            "\n",
            "Epoch: 9  Loss: 0.9327239394187927\n",
            "1013/1013 - 71s - loss: 0.9327 - accuracy: 0.5577 - val_loss: 0.9160 - val_accuracy: 0.5500 - 71s/epoch - 70ms/step\n",
            "Epoch 10/1000\n",
            "\n",
            "Epoch: 10  Loss: 0.9346806406974792\n",
            "1013/1013 - 70s - loss: 0.9347 - accuracy: 0.5509 - val_loss: 0.9163 - val_accuracy: 0.5567 - 70s/epoch - 69ms/step\n",
            "Epoch 11/1000\n",
            "\n",
            "Epoch: 11  Loss: 0.9400724172592163\n",
            "1013/1013 - 70s - loss: 0.9401 - accuracy: 0.5540 - val_loss: 0.9167 - val_accuracy: 0.5533 - 70s/epoch - 69ms/step\n",
            "Epoch 12/1000\n",
            "\n",
            "Epoch: 12  Loss: 0.9359685778617859\n",
            "1013/1013 - 70s - loss: 0.9360 - accuracy: 0.5480 - val_loss: 0.9240 - val_accuracy: 0.5433 - 70s/epoch - 69ms/step\n",
            "Epoch 13/1000\n",
            "\n",
            "Epoch: 13  Loss: 0.9350649118423462\n",
            "1013/1013 - 70s - loss: 0.9351 - accuracy: 0.5586 - val_loss: 0.9193 - val_accuracy: 0.5522 - 70s/epoch - 69ms/step\n",
            "Epoch 14/1000\n",
            "\n",
            "Epoch: 14  Loss: 0.93039870262146\n",
            "1013/1013 - 71s - loss: 0.9304 - accuracy: 0.5563 - val_loss: 0.9158 - val_accuracy: 0.5600 - 71s/epoch - 70ms/step\n",
            "Epoch 15/1000\n",
            "\n",
            "Epoch: 15  Loss: 0.9369357228279114\n",
            "1013/1013 - 70s - loss: 0.9369 - accuracy: 0.5481 - val_loss: 0.9196 - val_accuracy: 0.5511 - 70s/epoch - 69ms/step\n",
            "Epoch 16/1000\n",
            "\n",
            "Epoch: 16  Loss: 0.9321650862693787\n",
            "1013/1013 - 71s - loss: 0.9322 - accuracy: 0.5480 - val_loss: 0.9149 - val_accuracy: 0.5556 - 71s/epoch - 70ms/step\n",
            "Epoch 17/1000\n",
            "\n",
            "Epoch: 17  Loss: 0.9344062209129333\n",
            "1013/1013 - 70s - loss: 0.9344 - accuracy: 0.5577 - val_loss: 0.9155 - val_accuracy: 0.5578 - 70s/epoch - 70ms/step\n",
            "Epoch 18/1000\n",
            "\n",
            "Epoch: 18  Loss: 0.9331123232841492\n",
            "1013/1013 - 70s - loss: 0.9331 - accuracy: 0.5564 - val_loss: 0.9134 - val_accuracy: 0.5500 - 70s/epoch - 69ms/step\n",
            "Epoch 19/1000\n",
            "\n",
            "Epoch: 19  Loss: 0.9289553761482239\n",
            "1013/1013 - 70s - loss: 0.9290 - accuracy: 0.5573 - val_loss: 0.9154 - val_accuracy: 0.5556 - 70s/epoch - 69ms/step\n",
            "Epoch 20/1000\n",
            "\n",
            "Epoch: 20  Loss: 0.9343946576118469\n",
            "1013/1013 - 70s - loss: 0.9344 - accuracy: 0.5540 - val_loss: 0.9124 - val_accuracy: 0.5589 - 70s/epoch - 69ms/step\n",
            "Epoch 21/1000\n",
            "\n",
            "Epoch: 21  Loss: 0.9300515055656433\n",
            "1013/1013 - 70s - loss: 0.9301 - accuracy: 0.5533 - val_loss: 0.9158 - val_accuracy: 0.5611 - 70s/epoch - 69ms/step\n",
            "Epoch 22/1000\n",
            "\n",
            "Epoch: 22  Loss: 0.9313709139823914\n",
            "1013/1013 - 71s - loss: 0.9314 - accuracy: 0.5505 - val_loss: 0.9184 - val_accuracy: 0.5556 - 71s/epoch - 70ms/step\n",
            "Epoch 23/1000\n",
            "\n",
            "Epoch: 23  Loss: 0.9367563128471375\n",
            "1013/1013 - 75s - loss: 0.9368 - accuracy: 0.5509 - val_loss: 0.9202 - val_accuracy: 0.5422 - 75s/epoch - 74ms/step\n",
            "Epoch 24/1000\n",
            "\n",
            "Epoch: 24  Loss: 0.930816650390625\n",
            "1013/1013 - 76s - loss: 0.9308 - accuracy: 0.5572 - val_loss: 0.9191 - val_accuracy: 0.5567 - 76s/epoch - 75ms/step\n",
            "Epoch 25/1000\n",
            "\n",
            "Epoch: 25  Loss: 0.9281144738197327\n",
            "1013/1013 - 71s - loss: 0.9281 - accuracy: 0.5589 - val_loss: 0.9155 - val_accuracy: 0.5600 - 71s/epoch - 70ms/step\n",
            "Epoch 25: early stopping\n"
          ]
        }
      ],
      "source": [
        "# training the model with training dataset and validate with validation dataset\n",
        "# file_path = '/content/drive/MyDrive/colab/sentiment-analysis/data/models/check_points/'\n",
        "file_path = 'data/models/check_points/'\n",
        "!mkdir -p $file_path\n",
        "history=custom_model.fit(\n",
        "    train_ds,\n",
        "    validation_data=val_ds,\n",
        "    epochs=num_epochs,\n",
        "    callbacks=[\n",
        "        CustomCheckpoint(filepath=file_path,\n",
        "                         monitor='val_loss',\n",
        "                         save_best_only=True,\n",
        "                         save_weights_only=False,\n",
        "                         verbose=2\n",
        "                         ),\n",
        "        PrintEpochProgress(),\n",
        "        EarlyStoppingAtMinLoss(monitor='val_loss', patience=5,\n",
        "                                restore_best_weights=True, mode='auto',\n",
        "                                verbose=2),\n",
        "    ],\n",
        "    shuffle=True,\n",
        "    verbose=2,\n",
        "    )"
      ]
    },
    {
      "cell_type": "code",
      "execution_count": 38,
      "metadata": {
        "colab": {
          "base_uri": "https://localhost:8080/",
          "height": 472
        },
        "id": "0_zA6FlVzQhg",
        "outputId": "d3889d58-49a6-48a2-a0e1-e69d0307dbcd"
      },
      "outputs": [
        {
          "data": {
            "image/png": "[encoded data removed]",
            "text/plain": [
              "<Figure size 640x480 with 1 Axes>"
            ]
          },
          "metadata": {},
          "output_type": "display_data"
        }
      ],
      "source": [
        "PlotDiagram.display_training_loss(history=history)"
      ]
    },
    {
      "cell_type": "code",
      "execution_count": 40,
      "metadata": {
        "colab": {
          "base_uri": "https://localhost:8080/",
          "height": 472
        },
        "id": "tRfc-oxNzRxM",
        "outputId": "366a3170-2b50-42f6-a17b-055d2242790b"
      },
      "outputs": [
        {
          "data": {
            "image/png": "[encoded data removed]",
            "text/plain": [
              "<Figure size 640x480 with 1 Axes>"
            ]
          },
          "metadata": {},
          "output_type": "display_data"
        }
      ],
      "source": [
        "PlotDiagram.display_training_accuracy(history=history)"
      ]
    },
    {
      "cell_type": "code",
      "execution_count": null,
      "metadata": {
        "id": "-bbjevQzjICH"
      },
      "outputs": [],
      "source": []
    },
    {
      "cell_type": "code",
      "execution_count": 41,
      "metadata": {
        "colab": {
          "base_uri": "https://localhost:8080/"
        },
        "id": "AEesLDwm0pVz",
        "outputId": "fa30f6b5-1c5f-46d0-833c-addbdb10c015"
      },
      "outputs": [
        {
          "name": "stdout",
          "output_type": "stream",
          "text": [
            "Model: \"sentiment_analysis_model\"\n",
            "_________________________________________________________________\n",
            " Layer (type)                Output Shape              Param #   \n",
            "=================================================================\n",
            " sequential (Sequential)     multiple                  109482240 \n",
            "                                                                 \n",
            " lstm (LSTM)                 multiple                  459264    \n",
            "                                                                 \n",
            " batch_normalization (Batch  multiple                  512       \n",
            " Normalization)                                                  \n",
            "                                                                 \n",
            " dropout_38 (Dropout)        multiple                  0         \n",
            "                                                                 \n",
            " bidirectional (Bidirection  multiple                  98816     \n",
            " al)                                                             \n",
            "                                                                 \n",
            " batch_normalization_1 (Bat  multiple                  512       \n",
            " chNormalization)                                                \n",
            "                                                                 \n",
            " dropout_39 (Dropout)        multiple                  0         \n",
            "                                                                 \n",
            " lstm_2 (LSTM)               multiple                  20608     \n",
            "                                                                 \n",
            " batch_normalization_2 (Bat  multiple                  128       \n",
            " chNormalization)                                                \n",
            "                                                                 \n",
            " dropout_40 (Dropout)        multiple                  0         \n",
            "                                                                 \n",
            " flatten (Flatten)           multiple                  0         \n",
            "                                                                 \n",
            " dense (Dense)               multiple                  99        \n",
            "                                                                 \n",
            "=================================================================\n",
            "Total params: 110062179 (419.85 MB)\n",
            "Trainable params: 579363 (2.21 MB)\n",
            "Non-trainable params: 109482816 (417.64 MB)\n",
            "_________________________________________________________________\n"
          ]
        }
      ],
      "source": [
        "custom_model.summary()"
      ]
    },
    {
      "cell_type": "markdown",
      "metadata": {
        "id": "P1ZhOs_sjICH"
      },
      "source": [
        "### 9. evaluate the mode"
      ]
    },
    {
      "cell_type": "code",
      "execution_count": 43,
      "metadata": {
        "colab": {
          "base_uri": "https://localhost:8080/"
        },
        "id": "F8AXqw9fjICH",
        "outputId": "bb4fa470-6039-450b-a598-58f950fcde7c"
      },
      "outputs": [
        {
          "name": "stdout",
          "output_type": "stream",
          "text": [
            "125/125 - 6s - loss: 0.9242 - accuracy: 0.5660 - 6s/epoch - 48ms/step\n",
            "evaluation loss: [0.9241522550582886, 0.5659999847412109]\n"
          ]
        }
      ],
      "source": [
        "# trainer.evaluate()\n",
        "test_loss = custom_model.evaluate(test_ds,\n",
        "                               verbose=2,\n",
        "                               sample_weight=None, )\n",
        "print(f'evaluation loss: {test_loss}')"
      ]
    },
    {
      "cell_type": "code",
      "execution_count": 44,
      "metadata": {
        "colab": {
          "base_uri": "https://localhost:8080/"
        },
        "id": "6frdLDDqjICH",
        "outputId": "0018af52-d2f4-4d84-c1b4-6dcc74038559"
      },
      "outputs": [
        {
          "name": "stdout",
          "output_type": "stream",
          "text": [
            "125/125 [==============================] - 10s 54ms/step\n"
          ]
        }
      ],
      "source": [
        "y_test_hat = custom_model.predict(test_ds)"
      ]
    },
    {
      "cell_type": "code",
      "execution_count": 45,
      "metadata": {
        "colab": {
          "base_uri": "https://localhost:8080/",
          "height": 564
        },
        "id": "hnshm7JTjICH",
        "outputId": "b3dbd7e5-a9a5-453b-abf8-e57a95d7bfdf"
      },
      "outputs": [
        {
          "data": {
            "image/png": "[encoded data removed]",
            "text/plain": [
              "<Figure size 800x600 with 2 Axes>"
            ]
          },
          "metadata": {},
          "output_type": "display_data"
        }
      ],
      "source": [
        "PlotDiagram.display_confusion_matrix(y_test=tp.test_dataset.category, y_test_hat=y_test_hat)"
      ]
    },
    {
      "cell_type": "markdown",
      "metadata": {
        "id": "6d5rXT5OjICH"
      },
      "source": [
        "### 9. make predictions"
      ]
    },
    {
      "cell_type": "code",
      "execution_count": 47,
      "metadata": {
        "colab": {
          "base_uri": "https://localhost:8080/"
        },
        "id": "1J6GHbarjICH",
        "outputId": "5a76e006-4d91-4318-dd57-9afc9ea3b5da"
      },
      "outputs": [
        {
          "name": "stdout",
          "output_type": "stream",
          "text": [
            "1/1 [==============================] - 0s 46ms/step\n",
            "[[0.14620185 0.677392   0.17640619]\n",
            " [0.0682294  0.75488836 0.17688227]]\n",
            "[1 1]\n"
          ]
        }
      ],
      "source": [
        "inputs = [\"this movie looks very interesting, i love the fact that the actors do a great job in showing how people lived in the 18th century, which wasn't very good at all. But atleast this movie recreates this scenes! \",\n",
        "                    \"very good start, but movie started becoming uninteresting at some point though initially i thought it would have been much more fun. There was too much background noise, but later on towards the middle of the movie, my favorite character got in and he did a great job, so over \"]\n",
        "tokenized_inputs = tp.prepare_predict_inputs(inputs, tokenizer=tokenizer, batch_size=batch_size, max_length=max_length)\n",
        "predicted = custom_model.predict(tokenized_inputs)\n",
        "print(predicted)\n",
        "\n",
        "print(np.argmax(predicted, axis=1))"
      ]
    }
  ],
  "metadata": {
    "accelerator": "GPU",
    "colab": {
      "gpuType": "T4",
      "provenance": []
    },
    "kernelspec": {
      "display_name": "Python 3",
      "name": "python3"
    },
    "language_info": {
      "codemirror_mode": {
        "name": "ipython",
        "version": 3
      },
      "file_extension": ".py",
      "mimetype": "text/x-python",
      "name": "python",
      "nbconvert_exporter": "python",
      "pygments_lexer": "ipython3",
      "version": "3.11.7"
    },
    "widgets": {
      "application/vnd.jupyter.widget-state+json": {
        "06b41dc468734b6e895ade1708534d82": {
          "model_module": "@jupyter-widgets/controls",
          "model_module_version": "1.5.0",
          "model_name": "HTMLModel",
          "state": {
            "_dom_classes": [],
            "_model_module": "@jupyter-widgets/controls",
            "_model_module_version": "1.5.0",
            "_model_name": "HTMLModel",
            "_view_count": null,
            "_view_module": "@jupyter-widgets/controls",
            "_view_module_version": "1.5.0",
            "_view_name": "HTMLView",
            "description": "",
            "description_tooltip": null,
            "layout": "IPY_MODEL_31550376df48440c8c98769bb9431d5f",
            "placeholder": "​",
            "style": "IPY_MODEL_b861147e273d4317bc535dd93cf56e08",
            "value": "vocab.txt: 100%"
          }
        },
        "087c8c8eb8e744f09d0ff87fca35fc36": {
          "model_module": "@jupyter-widgets/controls",
          "model_module_version": "1.5.0",
          "model_name": "DescriptionStyleModel",
          "state": {
            "_model_module": "@jupyter-widgets/controls",
            "_model_module_version": "1.5.0",
            "_model_name": "DescriptionStyleModel",
            "_view_count": null,
            "_view_module": "@jupyter-widgets/base",
            "_view_module_version": "1.2.0",
            "_view_name": "StyleView",
            "description_width": ""
          }
        },
        "0a894f200a8247b28cb5f76ab4353d91": {
          "model_module": "@jupyter-widgets/controls",
          "model_module_version": "1.5.0",
          "model_name": "DescriptionStyleModel",
          "state": {
            "_model_module": "@jupyter-widgets/controls",
            "_model_module_version": "1.5.0",
            "_model_name": "DescriptionStyleModel",
            "_view_count": null,
            "_view_module": "@jupyter-widgets/base",
            "_view_module_version": "1.2.0",
            "_view_name": "StyleView",
            "description_width": ""
          }
        },
        "0adbe5882497496cb364582e62300486": {
          "model_module": "@jupyter-widgets/base",
          "model_module_version": "1.2.0",
          "model_name": "LayoutModel",
          "state": {
            "_model_module": "@jupyter-widgets/base",
            "_model_module_version": "1.2.0",
            "_model_name": "LayoutModel",
            "_view_count": null,
            "_view_module": "@jupyter-widgets/base",
            "_view_module_version": "1.2.0",
            "_view_name": "LayoutView",
            "align_content": null,
            "align_items": null,
            "align_self": null,
            "border": null,
            "bottom": null,
            "display": null,
            "flex": null,
            "flex_flow": null,
            "grid_area": null,
            "grid_auto_columns": null,
            "grid_auto_flow": null,
            "grid_auto_rows": null,
            "grid_column": null,
            "grid_gap": null,
            "grid_row": null,
            "grid_template_areas": null,
            "grid_template_columns": null,
            "grid_template_rows": null,
            "height": null,
            "justify_content": null,
            "justify_items": null,
            "left": null,
            "margin": null,
            "max_height": null,
            "max_width": null,
            "min_height": null,
            "min_width": null,
            "object_fit": null,
            "object_position": null,
            "order": null,
            "overflow": null,
            "overflow_x": null,
            "overflow_y": null,
            "padding": null,
            "right": null,
            "top": null,
            "visibility": null,
            "width": null
          }
        },
        "0cbc79aac4f6473ab7415c624a10f084": {
          "model_module": "@jupyter-widgets/base",
          "model_module_version": "1.2.0",
          "model_name": "LayoutModel",
          "state": {
            "_model_module": "@jupyter-widgets/base",
            "_model_module_version": "1.2.0",
            "_model_name": "LayoutModel",
            "_view_count": null,
            "_view_module": "@jupyter-widgets/base",
            "_view_module_version": "1.2.0",
            "_view_name": "LayoutView",
            "align_content": null,
            "align_items": null,
            "align_self": null,
            "border": null,
            "bottom": null,
            "display": null,
            "flex": null,
            "flex_flow": null,
            "grid_area": null,
            "grid_auto_columns": null,
            "grid_auto_flow": null,
            "grid_auto_rows": null,
            "grid_column": null,
            "grid_gap": null,
            "grid_row": null,
            "grid_template_areas": null,
            "grid_template_columns": null,
            "grid_template_rows": null,
            "height": null,
            "justify_content": null,
            "justify_items": null,
            "left": null,
            "margin": null,
            "max_height": null,
            "max_width": null,
            "min_height": null,
            "min_width": null,
            "object_fit": null,
            "object_position": null,
            "order": null,
            "overflow": null,
            "overflow_x": null,
            "overflow_y": null,
            "padding": null,
            "right": null,
            "top": null,
            "visibility": null,
            "width": null
          }
        },
        "124d8a0609fe4b9c9f42d78c727e7ca0": {
          "model_module": "@jupyter-widgets/controls",
          "model_module_version": "1.5.0",
          "model_name": "HBoxModel",
          "state": {
            "_dom_classes": [],
            "_model_module": "@jupyter-widgets/controls",
            "_model_module_version": "1.5.0",
            "_model_name": "HBoxModel",
            "_view_count": null,
            "_view_module": "@jupyter-widgets/controls",
            "_view_module_version": "1.5.0",
            "_view_name": "HBoxView",
            "box_style": "",
            "children": [
              "IPY_MODEL_d3be09133bbe4013ad029a3ae5eb0e06",
              "IPY_MODEL_59efcfa73a1f43fe8abdc75ac64c423c",
              "IPY_MODEL_6b83dfaca41a4af889b7ae511df1be9c"
            ],
            "layout": "IPY_MODEL_170dc6ea233d427792d72a984f9829db"
          }
        },
        "138a079681b14b15a6b4d660af6ee056": {
          "model_module": "@jupyter-widgets/base",
          "model_module_version": "1.2.0",
          "model_name": "LayoutModel",
          "state": {
            "_model_module": "@jupyter-widgets/base",
            "_model_module_version": "1.2.0",
            "_model_name": "LayoutModel",
            "_view_count": null,
            "_view_module": "@jupyter-widgets/base",
            "_view_module_version": "1.2.0",
            "_view_name": "LayoutView",
            "align_content": null,
            "align_items": null,
            "align_self": null,
            "border": null,
            "bottom": null,
            "display": null,
            "flex": null,
            "flex_flow": null,
            "grid_area": null,
            "grid_auto_columns": null,
            "grid_auto_flow": null,
            "grid_auto_rows": null,
            "grid_column": null,
            "grid_gap": null,
            "grid_row": null,
            "grid_template_areas": null,
            "grid_template_columns": null,
            "grid_template_rows": null,
            "height": null,
            "justify_content": null,
            "justify_items": null,
            "left": null,
            "margin": null,
            "max_height": null,
            "max_width": null,
            "min_height": null,
            "min_width": null,
            "object_fit": null,
            "object_position": null,
            "order": null,
            "overflow": null,
            "overflow_x": null,
            "overflow_y": null,
            "padding": null,
            "right": null,
            "top": null,
            "visibility": null,
            "width": null
          }
        },
        "14b591b96420428f800378928b786d03": {
          "model_module": "@jupyter-widgets/base",
          "model_module_version": "1.2.0",
          "model_name": "LayoutModel",
          "state": {
            "_model_module": "@jupyter-widgets/base",
            "_model_module_version": "1.2.0",
            "_model_name": "LayoutModel",
            "_view_count": null,
            "_view_module": "@jupyter-widgets/base",
            "_view_module_version": "1.2.0",
            "_view_name": "LayoutView",
            "align_content": null,
            "align_items": null,
            "align_self": null,
            "border": null,
            "bottom": null,
            "display": null,
            "flex": null,
            "flex_flow": null,
            "grid_area": null,
            "grid_auto_columns": null,
            "grid_auto_flow": null,
            "grid_auto_rows": null,
            "grid_column": null,
            "grid_gap": null,
            "grid_row": null,
            "grid_template_areas": null,
            "grid_template_columns": null,
            "grid_template_rows": null,
            "height": null,
            "justify_content": null,
            "justify_items": null,
            "left": null,
            "margin": null,
            "max_height": null,
            "max_width": null,
            "min_height": null,
            "min_width": null,
            "object_fit": null,
            "object_position": null,
            "order": null,
            "overflow": null,
            "overflow_x": null,
            "overflow_y": null,
            "padding": null,
            "right": null,
            "top": null,
            "visibility": null,
            "width": null
          }
        },
        "166e5daee08b4984b527636a3f38ba25": {
          "model_module": "@jupyter-widgets/controls",
          "model_module_version": "1.5.0",
          "model_name": "DescriptionStyleModel",
          "state": {
            "_model_module": "@jupyter-widgets/controls",
            "_model_module_version": "1.5.0",
            "_model_name": "DescriptionStyleModel",
            "_view_count": null,
            "_view_module": "@jupyter-widgets/base",
            "_view_module_version": "1.2.0",
            "_view_name": "StyleView",
            "description_width": ""
          }
        },
        "170dc6ea233d427792d72a984f9829db": {
          "model_module": "@jupyter-widgets/base",
          "model_module_version": "1.2.0",
          "model_name": "LayoutModel",
          "state": {
            "_model_module": "@jupyter-widgets/base",
            "_model_module_version": "1.2.0",
            "_model_name": "LayoutModel",
            "_view_count": null,
            "_view_module": "@jupyter-widgets/base",
            "_view_module_version": "1.2.0",
            "_view_name": "LayoutView",
            "align_content": null,
            "align_items": null,
            "align_self": null,
            "border": null,
            "bottom": null,
            "display": null,
            "flex": null,
            "flex_flow": null,
            "grid_area": null,
            "grid_auto_columns": null,
            "grid_auto_flow": null,
            "grid_auto_rows": null,
            "grid_column": null,
            "grid_gap": null,
            "grid_row": null,
            "grid_template_areas": null,
            "grid_template_columns": null,
            "grid_template_rows": null,
            "height": null,
            "justify_content": null,
            "justify_items": null,
            "left": null,
            "margin": null,
            "max_height": null,
            "max_width": null,
            "min_height": null,
            "min_width": null,
            "object_fit": null,
            "object_position": null,
            "order": null,
            "overflow": null,
            "overflow_x": null,
            "overflow_y": null,
            "padding": null,
            "right": null,
            "top": null,
            "visibility": null,
            "width": null
          }
        },
        "179409e298b241288643ee3725aa21e4": {
          "model_module": "@jupyter-widgets/controls",
          "model_module_version": "1.5.0",
          "model_name": "HBoxModel",
          "state": {
            "_dom_classes": [],
            "_model_module": "@jupyter-widgets/controls",
            "_model_module_version": "1.5.0",
            "_model_name": "HBoxModel",
            "_view_count": null,
            "_view_module": "@jupyter-widgets/controls",
            "_view_module_version": "1.5.0",
            "_view_name": "HBoxView",
            "box_style": "",
            "children": [
              "IPY_MODEL_c47b2627221a4bf183aff4dd96ca06d4",
              "IPY_MODEL_920041d45a7a41c7873fe647dd2a0e1f",
              "IPY_MODEL_daeb02b629c0401eb42203f19ce7a996"
            ],
            "layout": "IPY_MODEL_14b591b96420428f800378928b786d03"
          }
        },
        "1aec2a7f3cf343e4add24efed9e9f361": {
          "model_module": "@jupyter-widgets/base",
          "model_module_version": "1.2.0",
          "model_name": "LayoutModel",
          "state": {
            "_model_module": "@jupyter-widgets/base",
            "_model_module_version": "1.2.0",
            "_model_name": "LayoutModel",
            "_view_count": null,
            "_view_module": "@jupyter-widgets/base",
            "_view_module_version": "1.2.0",
            "_view_name": "LayoutView",
            "align_content": null,
            "align_items": null,
            "align_self": null,
            "border": null,
            "bottom": null,
            "display": null,
            "flex": null,
            "flex_flow": null,
            "grid_area": null,
            "grid_auto_columns": null,
            "grid_auto_flow": null,
            "grid_auto_rows": null,
            "grid_column": null,
            "grid_gap": null,
            "grid_row": null,
            "grid_template_areas": null,
            "grid_template_columns": null,
            "grid_template_rows": null,
            "height": null,
            "justify_content": null,
            "justify_items": null,
            "left": null,
            "margin": null,
            "max_height": null,
            "max_width": null,
            "min_height": null,
            "min_width": null,
            "object_fit": null,
            "object_position": null,
            "order": null,
            "overflow": null,
            "overflow_x": null,
            "overflow_y": null,
            "padding": null,
            "right": null,
            "top": null,
            "visibility": null,
            "width": null
          }
        },
        "20483ad4a0fb4d20bb97cd33835d6849": {
          "model_module": "@jupyter-widgets/base",
          "model_module_version": "1.2.0",
          "model_name": "LayoutModel",
          "state": {
            "_model_module": "@jupyter-widgets/base",
            "_model_module_version": "1.2.0",
            "_model_name": "LayoutModel",
            "_view_count": null,
            "_view_module": "@jupyter-widgets/base",
            "_view_module_version": "1.2.0",
            "_view_name": "LayoutView",
            "align_content": null,
            "align_items": null,
            "align_self": null,
            "border": null,
            "bottom": null,
            "display": null,
            "flex": null,
            "flex_flow": null,
            "grid_area": null,
            "grid_auto_columns": null,
            "grid_auto_flow": null,
            "grid_auto_rows": null,
            "grid_column": null,
            "grid_gap": null,
            "grid_row": null,
            "grid_template_areas": null,
            "grid_template_columns": null,
            "grid_template_rows": null,
            "height": null,
            "justify_content": null,
            "justify_items": null,
            "left": null,
            "margin": null,
            "max_height": null,
            "max_width": null,
            "min_height": null,
            "min_width": null,
            "object_fit": null,
            "object_position": null,
            "order": null,
            "overflow": null,
            "overflow_x": null,
            "overflow_y": null,
            "padding": null,
            "right": null,
            "top": null,
            "visibility": null,
            "width": null
          }
        },
        "2393aec565bf4de0896399c4d1c9215a": {
          "model_module": "@jupyter-widgets/controls",
          "model_module_version": "1.5.0",
          "model_name": "FloatProgressModel",
          "state": {
            "_dom_classes": [],
            "_model_module": "@jupyter-widgets/controls",
            "_model_module_version": "1.5.0",
            "_model_name": "FloatProgressModel",
            "_view_count": null,
            "_view_module": "@jupyter-widgets/controls",
            "_view_module_version": "1.5.0",
            "_view_name": "ProgressView",
            "bar_style": "success",
            "description": "",
            "description_tooltip": null,
            "layout": "IPY_MODEL_f93ff42119804d8a82f18af0baf738ff",
            "max": 440449768,
            "min": 0,
            "orientation": "horizontal",
            "style": "IPY_MODEL_ef602d400c544c8c9abef3ed96a9504f",
            "value": 440449768
          }
        },
        "2e2b2df632294ccab9e75a929437141e": {
          "model_module": "@jupyter-widgets/base",
          "model_module_version": "1.2.0",
          "model_name": "LayoutModel",
          "state": {
            "_model_module": "@jupyter-widgets/base",
            "_model_module_version": "1.2.0",
            "_model_name": "LayoutModel",
            "_view_count": null,
            "_view_module": "@jupyter-widgets/base",
            "_view_module_version": "1.2.0",
            "_view_name": "LayoutView",
            "align_content": null,
            "align_items": null,
            "align_self": null,
            "border": null,
            "bottom": null,
            "display": null,
            "flex": null,
            "flex_flow": null,
            "grid_area": null,
            "grid_auto_columns": null,
            "grid_auto_flow": null,
            "grid_auto_rows": null,
            "grid_column": null,
            "grid_gap": null,
            "grid_row": null,
            "grid_template_areas": null,
            "grid_template_columns": null,
            "grid_template_rows": null,
            "height": null,
            "justify_content": null,
            "justify_items": null,
            "left": null,
            "margin": null,
            "max_height": null,
            "max_width": null,
            "min_height": null,
            "min_width": null,
            "object_fit": null,
            "object_position": null,
            "order": null,
            "overflow": null,
            "overflow_x": null,
            "overflow_y": null,
            "padding": null,
            "right": null,
            "top": null,
            "visibility": null,
            "width": null
          }
        },
        "31550376df48440c8c98769bb9431d5f": {
          "model_module": "@jupyter-widgets/base",
          "model_module_version": "1.2.0",
          "model_name": "LayoutModel",
          "state": {
            "_model_module": "@jupyter-widgets/base",
            "_model_module_version": "1.2.0",
            "_model_name": "LayoutModel",
            "_view_count": null,
            "_view_module": "@jupyter-widgets/base",
            "_view_module_version": "1.2.0",
            "_view_name": "LayoutView",
            "align_content": null,
            "align_items": null,
            "align_self": null,
            "border": null,
            "bottom": null,
            "display": null,
            "flex": null,
            "flex_flow": null,
            "grid_area": null,
            "grid_auto_columns": null,
            "grid_auto_flow": null,
            "grid_auto_rows": null,
            "grid_column": null,
            "grid_gap": null,
            "grid_row": null,
            "grid_template_areas": null,
            "grid_template_columns": null,
            "grid_template_rows": null,
            "height": null,
            "justify_content": null,
            "justify_items": null,
            "left": null,
            "margin": null,
            "max_height": null,
            "max_width": null,
            "min_height": null,
            "min_width": null,
            "object_fit": null,
            "object_position": null,
            "order": null,
            "overflow": null,
            "overflow_x": null,
            "overflow_y": null,
            "padding": null,
            "right": null,
            "top": null,
            "visibility": null,
            "width": null
          }
        },
        "31f9e038e1ae4a08951faa342043cc58": {
          "model_module": "@jupyter-widgets/controls",
          "model_module_version": "1.5.0",
          "model_name": "HTMLModel",
          "state": {
            "_dom_classes": [],
            "_model_module": "@jupyter-widgets/controls",
            "_model_module_version": "1.5.0",
            "_model_name": "HTMLModel",
            "_view_count": null,
            "_view_module": "@jupyter-widgets/controls",
            "_view_module_version": "1.5.0",
            "_view_name": "HTMLView",
            "description": "",
            "description_tooltip": null,
            "layout": "IPY_MODEL_a3f33a36a845479e8ca6c82a40ced314",
            "placeholder": "​",
            "style": "IPY_MODEL_166e5daee08b4984b527636a3f38ba25",
            "value": " 28.0/28.0 [00:00&lt;00:00, 1.81kB/s]"
          }
        },
        "3297abeadb3d492c86fdffcb36210797": {
          "model_module": "@jupyter-widgets/controls",
          "model_module_version": "1.5.0",
          "model_name": "HTMLModel",
          "state": {
            "_dom_classes": [],
            "_model_module": "@jupyter-widgets/controls",
            "_model_module_version": "1.5.0",
            "_model_name": "HTMLModel",
            "_view_count": null,
            "_view_module": "@jupyter-widgets/controls",
            "_view_module_version": "1.5.0",
            "_view_name": "HTMLView",
            "description": "",
            "description_tooltip": null,
            "layout": "IPY_MODEL_78d660e85ee14236918a0eddf8bd40a0",
            "placeholder": "​",
            "style": "IPY_MODEL_a3d8ea70fbf54383a87b6bc2083e740c",
            "value": " 440M/440M [00:03&lt;00:00, 148MB/s]"
          }
        },
        "34b657cf986f4c8c897e8e072814df3c": {
          "model_module": "@jupyter-widgets/controls",
          "model_module_version": "1.5.0",
          "model_name": "ProgressStyleModel",
          "state": {
            "_model_module": "@jupyter-widgets/controls",
            "_model_module_version": "1.5.0",
            "_model_name": "ProgressStyleModel",
            "_view_count": null,
            "_view_module": "@jupyter-widgets/base",
            "_view_module_version": "1.2.0",
            "_view_name": "StyleView",
            "bar_color": null,
            "description_width": ""
          }
        },
        "354c40648dc74065b8cb5cecbce34147": {
          "model_module": "@jupyter-widgets/controls",
          "model_module_version": "1.5.0",
          "model_name": "DescriptionStyleModel",
          "state": {
            "_model_module": "@jupyter-widgets/controls",
            "_model_module_version": "1.5.0",
            "_model_name": "DescriptionStyleModel",
            "_view_count": null,
            "_view_module": "@jupyter-widgets/base",
            "_view_module_version": "1.2.0",
            "_view_name": "StyleView",
            "description_width": ""
          }
        },
        "38b45556eeb9454bb95fa896c500886f": {
          "model_module": "@jupyter-widgets/controls",
          "model_module_version": "1.5.0",
          "model_name": "DescriptionStyleModel",
          "state": {
            "_model_module": "@jupyter-widgets/controls",
            "_model_module_version": "1.5.0",
            "_model_name": "DescriptionStyleModel",
            "_view_count": null,
            "_view_module": "@jupyter-widgets/base",
            "_view_module_version": "1.2.0",
            "_view_name": "StyleView",
            "description_width": ""
          }
        },
        "3d2479005fa8431f8ec2d0194a466488": {
          "model_module": "@jupyter-widgets/controls",
          "model_module_version": "1.5.0",
          "model_name": "DescriptionStyleModel",
          "state": {
            "_model_module": "@jupyter-widgets/controls",
            "_model_module_version": "1.5.0",
            "_model_name": "DescriptionStyleModel",
            "_view_count": null,
            "_view_module": "@jupyter-widgets/base",
            "_view_module_version": "1.2.0",
            "_view_name": "StyleView",
            "description_width": ""
          }
        },
        "4b7879c698944151af01ee6605f910b4": {
          "model_module": "@jupyter-widgets/controls",
          "model_module_version": "1.5.0",
          "model_name": "ProgressStyleModel",
          "state": {
            "_model_module": "@jupyter-widgets/controls",
            "_model_module_version": "1.5.0",
            "_model_name": "ProgressStyleModel",
            "_view_count": null,
            "_view_module": "@jupyter-widgets/base",
            "_view_module_version": "1.2.0",
            "_view_name": "StyleView",
            "bar_color": null,
            "description_width": ""
          }
        },
        "4b7c9339785848f384639be9ad1bac78": {
          "model_module": "@jupyter-widgets/base",
          "model_module_version": "1.2.0",
          "model_name": "LayoutModel",
          "state": {
            "_model_module": "@jupyter-widgets/base",
            "_model_module_version": "1.2.0",
            "_model_name": "LayoutModel",
            "_view_count": null,
            "_view_module": "@jupyter-widgets/base",
            "_view_module_version": "1.2.0",
            "_view_name": "LayoutView",
            "align_content": null,
            "align_items": null,
            "align_self": null,
            "border": null,
            "bottom": null,
            "display": null,
            "flex": null,
            "flex_flow": null,
            "grid_area": null,
            "grid_auto_columns": null,
            "grid_auto_flow": null,
            "grid_auto_rows": null,
            "grid_column": null,
            "grid_gap": null,
            "grid_row": null,
            "grid_template_areas": null,
            "grid_template_columns": null,
            "grid_template_rows": null,
            "height": null,
            "justify_content": null,
            "justify_items": null,
            "left": null,
            "margin": null,
            "max_height": null,
            "max_width": null,
            "min_height": null,
            "min_width": null,
            "object_fit": null,
            "object_position": null,
            "order": null,
            "overflow": null,
            "overflow_x": null,
            "overflow_y": null,
            "padding": null,
            "right": null,
            "top": null,
            "visibility": null,
            "width": null
          }
        },
        "59efcfa73a1f43fe8abdc75ac64c423c": {
          "model_module": "@jupyter-widgets/controls",
          "model_module_version": "1.5.0",
          "model_name": "FloatProgressModel",
          "state": {
            "_dom_classes": [],
            "_model_module": "@jupyter-widgets/controls",
            "_model_module_version": "1.5.0",
            "_model_name": "FloatProgressModel",
            "_view_count": null,
            "_view_module": "@jupyter-widgets/controls",
            "_view_module_version": "1.5.0",
            "_view_name": "ProgressView",
            "bar_style": "success",
            "description": "",
            "description_tooltip": null,
            "layout": "IPY_MODEL_0cbc79aac4f6473ab7415c624a10f084",
            "max": 570,
            "min": 0,
            "orientation": "horizontal",
            "style": "IPY_MODEL_34b657cf986f4c8c897e8e072814df3c",
            "value": 570
          }
        },
        "65900d4ac7754b808a357791557d732a": {
          "model_module": "@jupyter-widgets/controls",
          "model_module_version": "1.5.0",
          "model_name": "DescriptionStyleModel",
          "state": {
            "_model_module": "@jupyter-widgets/controls",
            "_model_module_version": "1.5.0",
            "_model_name": "DescriptionStyleModel",
            "_view_count": null,
            "_view_module": "@jupyter-widgets/base",
            "_view_module_version": "1.2.0",
            "_view_name": "StyleView",
            "description_width": ""
          }
        },
        "694fd1f47da947e1b6bf3d48611edeb2": {
          "model_module": "@jupyter-widgets/controls",
          "model_module_version": "1.5.0",
          "model_name": "ProgressStyleModel",
          "state": {
            "_model_module": "@jupyter-widgets/controls",
            "_model_module_version": "1.5.0",
            "_model_name": "ProgressStyleModel",
            "_view_count": null,
            "_view_module": "@jupyter-widgets/base",
            "_view_module_version": "1.2.0",
            "_view_name": "StyleView",
            "bar_color": null,
            "description_width": ""
          }
        },
        "6b83dfaca41a4af889b7ae511df1be9c": {
          "model_module": "@jupyter-widgets/controls",
          "model_module_version": "1.5.0",
          "model_name": "HTMLModel",
          "state": {
            "_dom_classes": [],
            "_model_module": "@jupyter-widgets/controls",
            "_model_module_version": "1.5.0",
            "_model_name": "HTMLModel",
            "_view_count": null,
            "_view_module": "@jupyter-widgets/controls",
            "_view_module_version": "1.5.0",
            "_view_name": "HTMLView",
            "description": "",
            "description_tooltip": null,
            "layout": "IPY_MODEL_1aec2a7f3cf343e4add24efed9e9f361",
            "placeholder": "​",
            "style": "IPY_MODEL_3d2479005fa8431f8ec2d0194a466488",
            "value": " 570/570 [00:00&lt;00:00, 38.8kB/s]"
          }
        },
        "78d660e85ee14236918a0eddf8bd40a0": {
          "model_module": "@jupyter-widgets/base",
          "model_module_version": "1.2.0",
          "model_name": "LayoutModel",
          "state": {
            "_model_module": "@jupyter-widgets/base",
            "_model_module_version": "1.2.0",
            "_model_name": "LayoutModel",
            "_view_count": null,
            "_view_module": "@jupyter-widgets/base",
            "_view_module_version": "1.2.0",
            "_view_name": "LayoutView",
            "align_content": null,
            "align_items": null,
            "align_self": null,
            "border": null,
            "bottom": null,
            "display": null,
            "flex": null,
            "flex_flow": null,
            "grid_area": null,
            "grid_auto_columns": null,
            "grid_auto_flow": null,
            "grid_auto_rows": null,
            "grid_column": null,
            "grid_gap": null,
            "grid_row": null,
            "grid_template_areas": null,
            "grid_template_columns": null,
            "grid_template_rows": null,
            "height": null,
            "justify_content": null,
            "justify_items": null,
            "left": null,
            "margin": null,
            "max_height": null,
            "max_width": null,
            "min_height": null,
            "min_width": null,
            "object_fit": null,
            "object_position": null,
            "order": null,
            "overflow": null,
            "overflow_x": null,
            "overflow_y": null,
            "padding": null,
            "right": null,
            "top": null,
            "visibility": null,
            "width": null
          }
        },
        "8007987ae53546e987fc3fd625bfbd8c": {
          "model_module": "@jupyter-widgets/controls",
          "model_module_version": "1.5.0",
          "model_name": "FloatProgressModel",
          "state": {
            "_dom_classes": [],
            "_model_module": "@jupyter-widgets/controls",
            "_model_module_version": "1.5.0",
            "_model_name": "FloatProgressModel",
            "_view_count": null,
            "_view_module": "@jupyter-widgets/controls",
            "_view_module_version": "1.5.0",
            "_view_name": "ProgressView",
            "bar_style": "success",
            "description": "",
            "description_tooltip": null,
            "layout": "IPY_MODEL_c037bb3bbb7341bfa305c72fc8e6d85c",
            "max": 231508,
            "min": 0,
            "orientation": "horizontal",
            "style": "IPY_MODEL_4b7879c698944151af01ee6605f910b4",
            "value": 231508
          }
        },
        "877f6ed9d48a490ba76b8034f411f115": {
          "model_module": "@jupyter-widgets/base",
          "model_module_version": "1.2.0",
          "model_name": "LayoutModel",
          "state": {
            "_model_module": "@jupyter-widgets/base",
            "_model_module_version": "1.2.0",
            "_model_name": "LayoutModel",
            "_view_count": null,
            "_view_module": "@jupyter-widgets/base",
            "_view_module_version": "1.2.0",
            "_view_name": "LayoutView",
            "align_content": null,
            "align_items": null,
            "align_self": null,
            "border": null,
            "bottom": null,
            "display": null,
            "flex": null,
            "flex_flow": null,
            "grid_area": null,
            "grid_auto_columns": null,
            "grid_auto_flow": null,
            "grid_auto_rows": null,
            "grid_column": null,
            "grid_gap": null,
            "grid_row": null,
            "grid_template_areas": null,
            "grid_template_columns": null,
            "grid_template_rows": null,
            "height": null,
            "justify_content": null,
            "justify_items": null,
            "left": null,
            "margin": null,
            "max_height": null,
            "max_width": null,
            "min_height": null,
            "min_width": null,
            "object_fit": null,
            "object_position": null,
            "order": null,
            "overflow": null,
            "overflow_x": null,
            "overflow_y": null,
            "padding": null,
            "right": null,
            "top": null,
            "visibility": null,
            "width": null
          }
        },
        "8b2eb1da36af49e38485874a15e3925d": {
          "model_module": "@jupyter-widgets/base",
          "model_module_version": "1.2.0",
          "model_name": "LayoutModel",
          "state": {
            "_model_module": "@jupyter-widgets/base",
            "_model_module_version": "1.2.0",
            "_model_name": "LayoutModel",
            "_view_count": null,
            "_view_module": "@jupyter-widgets/base",
            "_view_module_version": "1.2.0",
            "_view_name": "LayoutView",
            "align_content": null,
            "align_items": null,
            "align_self": null,
            "border": null,
            "bottom": null,
            "display": null,
            "flex": null,
            "flex_flow": null,
            "grid_area": null,
            "grid_auto_columns": null,
            "grid_auto_flow": null,
            "grid_auto_rows": null,
            "grid_column": null,
            "grid_gap": null,
            "grid_row": null,
            "grid_template_areas": null,
            "grid_template_columns": null,
            "grid_template_rows": null,
            "height": null,
            "justify_content": null,
            "justify_items": null,
            "left": null,
            "margin": null,
            "max_height": null,
            "max_width": null,
            "min_height": null,
            "min_width": null,
            "object_fit": null,
            "object_position": null,
            "order": null,
            "overflow": null,
            "overflow_x": null,
            "overflow_y": null,
            "padding": null,
            "right": null,
            "top": null,
            "visibility": null,
            "width": null
          }
        },
        "920041d45a7a41c7873fe647dd2a0e1f": {
          "model_module": "@jupyter-widgets/controls",
          "model_module_version": "1.5.0",
          "model_name": "FloatProgressModel",
          "state": {
            "_dom_classes": [],
            "_model_module": "@jupyter-widgets/controls",
            "_model_module_version": "1.5.0",
            "_model_name": "FloatProgressModel",
            "_view_count": null,
            "_view_module": "@jupyter-widgets/controls",
            "_view_module_version": "1.5.0",
            "_view_name": "ProgressView",
            "bar_style": "success",
            "description": "",
            "description_tooltip": null,
            "layout": "IPY_MODEL_4b7c9339785848f384639be9ad1bac78",
            "max": 466062,
            "min": 0,
            "orientation": "horizontal",
            "style": "IPY_MODEL_694fd1f47da947e1b6bf3d48611edeb2",
            "value": 466062
          }
        },
        "a3d8ea70fbf54383a87b6bc2083e740c": {
          "model_module": "@jupyter-widgets/controls",
          "model_module_version": "1.5.0",
          "model_name": "DescriptionStyleModel",
          "state": {
            "_model_module": "@jupyter-widgets/controls",
            "_model_module_version": "1.5.0",
            "_model_name": "DescriptionStyleModel",
            "_view_count": null,
            "_view_module": "@jupyter-widgets/base",
            "_view_module_version": "1.2.0",
            "_view_name": "StyleView",
            "description_width": ""
          }
        },
        "a3f33a36a845479e8ca6c82a40ced314": {
          "model_module": "@jupyter-widgets/base",
          "model_module_version": "1.2.0",
          "model_name": "LayoutModel",
          "state": {
            "_model_module": "@jupyter-widgets/base",
            "_model_module_version": "1.2.0",
            "_model_name": "LayoutModel",
            "_view_count": null,
            "_view_module": "@jupyter-widgets/base",
            "_view_module_version": "1.2.0",
            "_view_name": "LayoutView",
            "align_content": null,
            "align_items": null,
            "align_self": null,
            "border": null,
            "bottom": null,
            "display": null,
            "flex": null,
            "flex_flow": null,
            "grid_area": null,
            "grid_auto_columns": null,
            "grid_auto_flow": null,
            "grid_auto_rows": null,
            "grid_column": null,
            "grid_gap": null,
            "grid_row": null,
            "grid_template_areas": null,
            "grid_template_columns": null,
            "grid_template_rows": null,
            "height": null,
            "justify_content": null,
            "justify_items": null,
            "left": null,
            "margin": null,
            "max_height": null,
            "max_width": null,
            "min_height": null,
            "min_width": null,
            "object_fit": null,
            "object_position": null,
            "order": null,
            "overflow": null,
            "overflow_x": null,
            "overflow_y": null,
            "padding": null,
            "right": null,
            "top": null,
            "visibility": null,
            "width": null
          }
        },
        "a7940475e7764ebbb778f89a103408a6": {
          "model_module": "@jupyter-widgets/controls",
          "model_module_version": "1.5.0",
          "model_name": "FloatProgressModel",
          "state": {
            "_dom_classes": [],
            "_model_module": "@jupyter-widgets/controls",
            "_model_module_version": "1.5.0",
            "_model_name": "FloatProgressModel",
            "_view_count": null,
            "_view_module": "@jupyter-widgets/controls",
            "_view_module_version": "1.5.0",
            "_view_name": "ProgressView",
            "bar_style": "success",
            "description": "",
            "description_tooltip": null,
            "layout": "IPY_MODEL_20483ad4a0fb4d20bb97cd33835d6849",
            "max": 28,
            "min": 0,
            "orientation": "horizontal",
            "style": "IPY_MODEL_b09794460cb54dbba2c64b5ebbeca7e1",
            "value": 28
          }
        },
        "a8b10f0cbb9b4d45b6b9d4c34b0a5d3b": {
          "model_module": "@jupyter-widgets/base",
          "model_module_version": "1.2.0",
          "model_name": "LayoutModel",
          "state": {
            "_model_module": "@jupyter-widgets/base",
            "_model_module_version": "1.2.0",
            "_model_name": "LayoutModel",
            "_view_count": null,
            "_view_module": "@jupyter-widgets/base",
            "_view_module_version": "1.2.0",
            "_view_name": "LayoutView",
            "align_content": null,
            "align_items": null,
            "align_self": null,
            "border": null,
            "bottom": null,
            "display": null,
            "flex": null,
            "flex_flow": null,
            "grid_area": null,
            "grid_auto_columns": null,
            "grid_auto_flow": null,
            "grid_auto_rows": null,
            "grid_column": null,
            "grid_gap": null,
            "grid_row": null,
            "grid_template_areas": null,
            "grid_template_columns": null,
            "grid_template_rows": null,
            "height": null,
            "justify_content": null,
            "justify_items": null,
            "left": null,
            "margin": null,
            "max_height": null,
            "max_width": null,
            "min_height": null,
            "min_width": null,
            "object_fit": null,
            "object_position": null,
            "order": null,
            "overflow": null,
            "overflow_x": null,
            "overflow_y": null,
            "padding": null,
            "right": null,
            "top": null,
            "visibility": null,
            "width": null
          }
        },
        "aa3205186e9f47478689af50e6da97d6": {
          "model_module": "@jupyter-widgets/controls",
          "model_module_version": "1.5.0",
          "model_name": "HTMLModel",
          "state": {
            "_dom_classes": [],
            "_model_module": "@jupyter-widgets/controls",
            "_model_module_version": "1.5.0",
            "_model_name": "HTMLModel",
            "_view_count": null,
            "_view_module": "@jupyter-widgets/controls",
            "_view_module_version": "1.5.0",
            "_view_name": "HTMLView",
            "description": "",
            "description_tooltip": null,
            "layout": "IPY_MODEL_0adbe5882497496cb364582e62300486",
            "placeholder": "​",
            "style": "IPY_MODEL_354c40648dc74065b8cb5cecbce34147",
            "value": " 232k/232k [00:00&lt;00:00, 3.41MB/s]"
          }
        },
        "b09794460cb54dbba2c64b5ebbeca7e1": {
          "model_module": "@jupyter-widgets/controls",
          "model_module_version": "1.5.0",
          "model_name": "ProgressStyleModel",
          "state": {
            "_model_module": "@jupyter-widgets/controls",
            "_model_module_version": "1.5.0",
            "_model_name": "ProgressStyleModel",
            "_view_count": null,
            "_view_module": "@jupyter-widgets/base",
            "_view_module_version": "1.2.0",
            "_view_name": "StyleView",
            "bar_color": null,
            "description_width": ""
          }
        },
        "b77100a0121c4a9e987abed7a8d8b521": {
          "model_module": "@jupyter-widgets/controls",
          "model_module_version": "1.5.0",
          "model_name": "HTMLModel",
          "state": {
            "_dom_classes": [],
            "_model_module": "@jupyter-widgets/controls",
            "_model_module_version": "1.5.0",
            "_model_name": "HTMLModel",
            "_view_count": null,
            "_view_module": "@jupyter-widgets/controls",
            "_view_module_version": "1.5.0",
            "_view_name": "HTMLView",
            "description": "",
            "description_tooltip": null,
            "layout": "IPY_MODEL_e74c5c90078744f6a203f7f40acce4f1",
            "placeholder": "​",
            "style": "IPY_MODEL_c9588c0f837640a59baf807ffdc77a9b",
            "value": "tokenizer_config.json: 100%"
          }
        },
        "b7ea5ca93ec94e11ad33b7a8f44c2bcf": {
          "model_module": "@jupyter-widgets/controls",
          "model_module_version": "1.5.0",
          "model_name": "HBoxModel",
          "state": {
            "_dom_classes": [],
            "_model_module": "@jupyter-widgets/controls",
            "_model_module_version": "1.5.0",
            "_model_name": "HBoxModel",
            "_view_count": null,
            "_view_module": "@jupyter-widgets/controls",
            "_view_module_version": "1.5.0",
            "_view_name": "HBoxView",
            "box_style": "",
            "children": [
              "IPY_MODEL_06b41dc468734b6e895ade1708534d82",
              "IPY_MODEL_8007987ae53546e987fc3fd625bfbd8c",
              "IPY_MODEL_aa3205186e9f47478689af50e6da97d6"
            ],
            "layout": "IPY_MODEL_d3b4501cb2344b8b88aeca741e0a8786"
          }
        },
        "b861147e273d4317bc535dd93cf56e08": {
          "model_module": "@jupyter-widgets/controls",
          "model_module_version": "1.5.0",
          "model_name": "DescriptionStyleModel",
          "state": {
            "_model_module": "@jupyter-widgets/controls",
            "_model_module_version": "1.5.0",
            "_model_name": "DescriptionStyleModel",
            "_view_count": null,
            "_view_module": "@jupyter-widgets/base",
            "_view_module_version": "1.2.0",
            "_view_name": "StyleView",
            "description_width": ""
          }
        },
        "c037bb3bbb7341bfa305c72fc8e6d85c": {
          "model_module": "@jupyter-widgets/base",
          "model_module_version": "1.2.0",
          "model_name": "LayoutModel",
          "state": {
            "_model_module": "@jupyter-widgets/base",
            "_model_module_version": "1.2.0",
            "_model_name": "LayoutModel",
            "_view_count": null,
            "_view_module": "@jupyter-widgets/base",
            "_view_module_version": "1.2.0",
            "_view_name": "LayoutView",
            "align_content": null,
            "align_items": null,
            "align_self": null,
            "border": null,
            "bottom": null,
            "display": null,
            "flex": null,
            "flex_flow": null,
            "grid_area": null,
            "grid_auto_columns": null,
            "grid_auto_flow": null,
            "grid_auto_rows": null,
            "grid_column": null,
            "grid_gap": null,
            "grid_row": null,
            "grid_template_areas": null,
            "grid_template_columns": null,
            "grid_template_rows": null,
            "height": null,
            "justify_content": null,
            "justify_items": null,
            "left": null,
            "margin": null,
            "max_height": null,
            "max_width": null,
            "min_height": null,
            "min_width": null,
            "object_fit": null,
            "object_position": null,
            "order": null,
            "overflow": null,
            "overflow_x": null,
            "overflow_y": null,
            "padding": null,
            "right": null,
            "top": null,
            "visibility": null,
            "width": null
          }
        },
        "c47b2627221a4bf183aff4dd96ca06d4": {
          "model_module": "@jupyter-widgets/controls",
          "model_module_version": "1.5.0",
          "model_name": "HTMLModel",
          "state": {
            "_dom_classes": [],
            "_model_module": "@jupyter-widgets/controls",
            "_model_module_version": "1.5.0",
            "_model_name": "HTMLModel",
            "_view_count": null,
            "_view_module": "@jupyter-widgets/controls",
            "_view_module_version": "1.5.0",
            "_view_name": "HTMLView",
            "description": "",
            "description_tooltip": null,
            "layout": "IPY_MODEL_138a079681b14b15a6b4d660af6ee056",
            "placeholder": "​",
            "style": "IPY_MODEL_65900d4ac7754b808a357791557d732a",
            "value": "tokenizer.json: 100%"
          }
        },
        "c9588c0f837640a59baf807ffdc77a9b": {
          "model_module": "@jupyter-widgets/controls",
          "model_module_version": "1.5.0",
          "model_name": "DescriptionStyleModel",
          "state": {
            "_model_module": "@jupyter-widgets/controls",
            "_model_module_version": "1.5.0",
            "_model_name": "DescriptionStyleModel",
            "_view_count": null,
            "_view_module": "@jupyter-widgets/base",
            "_view_module_version": "1.2.0",
            "_view_name": "StyleView",
            "description_width": ""
          }
        },
        "d3b4501cb2344b8b88aeca741e0a8786": {
          "model_module": "@jupyter-widgets/base",
          "model_module_version": "1.2.0",
          "model_name": "LayoutModel",
          "state": {
            "_model_module": "@jupyter-widgets/base",
            "_model_module_version": "1.2.0",
            "_model_name": "LayoutModel",
            "_view_count": null,
            "_view_module": "@jupyter-widgets/base",
            "_view_module_version": "1.2.0",
            "_view_name": "LayoutView",
            "align_content": null,
            "align_items": null,
            "align_self": null,
            "border": null,
            "bottom": null,
            "display": null,
            "flex": null,
            "flex_flow": null,
            "grid_area": null,
            "grid_auto_columns": null,
            "grid_auto_flow": null,
            "grid_auto_rows": null,
            "grid_column": null,
            "grid_gap": null,
            "grid_row": null,
            "grid_template_areas": null,
            "grid_template_columns": null,
            "grid_template_rows": null,
            "height": null,
            "justify_content": null,
            "justify_items": null,
            "left": null,
            "margin": null,
            "max_height": null,
            "max_width": null,
            "min_height": null,
            "min_width": null,
            "object_fit": null,
            "object_position": null,
            "order": null,
            "overflow": null,
            "overflow_x": null,
            "overflow_y": null,
            "padding": null,
            "right": null,
            "top": null,
            "visibility": null,
            "width": null
          }
        },
        "d3be09133bbe4013ad029a3ae5eb0e06": {
          "model_module": "@jupyter-widgets/controls",
          "model_module_version": "1.5.0",
          "model_name": "HTMLModel",
          "state": {
            "_dom_classes": [],
            "_model_module": "@jupyter-widgets/controls",
            "_model_module_version": "1.5.0",
            "_model_name": "HTMLModel",
            "_view_count": null,
            "_view_module": "@jupyter-widgets/controls",
            "_view_module_version": "1.5.0",
            "_view_name": "HTMLView",
            "description": "",
            "description_tooltip": null,
            "layout": "IPY_MODEL_877f6ed9d48a490ba76b8034f411f115",
            "placeholder": "​",
            "style": "IPY_MODEL_38b45556eeb9454bb95fa896c500886f",
            "value": "config.json: 100%"
          }
        },
        "da942d18fa8546d9b340a342be8ff6a5": {
          "model_module": "@jupyter-widgets/base",
          "model_module_version": "1.2.0",
          "model_name": "LayoutModel",
          "state": {
            "_model_module": "@jupyter-widgets/base",
            "_model_module_version": "1.2.0",
            "_model_name": "LayoutModel",
            "_view_count": null,
            "_view_module": "@jupyter-widgets/base",
            "_view_module_version": "1.2.0",
            "_view_name": "LayoutView",
            "align_content": null,
            "align_items": null,
            "align_self": null,
            "border": null,
            "bottom": null,
            "display": null,
            "flex": null,
            "flex_flow": null,
            "grid_area": null,
            "grid_auto_columns": null,
            "grid_auto_flow": null,
            "grid_auto_rows": null,
            "grid_column": null,
            "grid_gap": null,
            "grid_row": null,
            "grid_template_areas": null,
            "grid_template_columns": null,
            "grid_template_rows": null,
            "height": null,
            "justify_content": null,
            "justify_items": null,
            "left": null,
            "margin": null,
            "max_height": null,
            "max_width": null,
            "min_height": null,
            "min_width": null,
            "object_fit": null,
            "object_position": null,
            "order": null,
            "overflow": null,
            "overflow_x": null,
            "overflow_y": null,
            "padding": null,
            "right": null,
            "top": null,
            "visibility": null,
            "width": null
          }
        },
        "daeb02b629c0401eb42203f19ce7a996": {
          "model_module": "@jupyter-widgets/controls",
          "model_module_version": "1.5.0",
          "model_name": "HTMLModel",
          "state": {
            "_dom_classes": [],
            "_model_module": "@jupyter-widgets/controls",
            "_model_module_version": "1.5.0",
            "_model_name": "HTMLModel",
            "_view_count": null,
            "_view_module": "@jupyter-widgets/controls",
            "_view_module_version": "1.5.0",
            "_view_name": "HTMLView",
            "description": "",
            "description_tooltip": null,
            "layout": "IPY_MODEL_8b2eb1da36af49e38485874a15e3925d",
            "placeholder": "​",
            "style": "IPY_MODEL_087c8c8eb8e744f09d0ff87fca35fc36",
            "value": " 466k/466k [00:00&lt;00:00, 2.70MB/s]"
          }
        },
        "e1d2a360c27649c59710680f2d0a34fb": {
          "model_module": "@jupyter-widgets/controls",
          "model_module_version": "1.5.0",
          "model_name": "HBoxModel",
          "state": {
            "_dom_classes": [],
            "_model_module": "@jupyter-widgets/controls",
            "_model_module_version": "1.5.0",
            "_model_name": "HBoxModel",
            "_view_count": null,
            "_view_module": "@jupyter-widgets/controls",
            "_view_module_version": "1.5.0",
            "_view_name": "HBoxView",
            "box_style": "",
            "children": [
              "IPY_MODEL_b77100a0121c4a9e987abed7a8d8b521",
              "IPY_MODEL_a7940475e7764ebbb778f89a103408a6",
              "IPY_MODEL_31f9e038e1ae4a08951faa342043cc58"
            ],
            "layout": "IPY_MODEL_a8b10f0cbb9b4d45b6b9d4c34b0a5d3b"
          }
        },
        "e74c5c90078744f6a203f7f40acce4f1": {
          "model_module": "@jupyter-widgets/base",
          "model_module_version": "1.2.0",
          "model_name": "LayoutModel",
          "state": {
            "_model_module": "@jupyter-widgets/base",
            "_model_module_version": "1.2.0",
            "_model_name": "LayoutModel",
            "_view_count": null,
            "_view_module": "@jupyter-widgets/base",
            "_view_module_version": "1.2.0",
            "_view_name": "LayoutView",
            "align_content": null,
            "align_items": null,
            "align_self": null,
            "border": null,
            "bottom": null,
            "display": null,
            "flex": null,
            "flex_flow": null,
            "grid_area": null,
            "grid_auto_columns": null,
            "grid_auto_flow": null,
            "grid_auto_rows": null,
            "grid_column": null,
            "grid_gap": null,
            "grid_row": null,
            "grid_template_areas": null,
            "grid_template_columns": null,
            "grid_template_rows": null,
            "height": null,
            "justify_content": null,
            "justify_items": null,
            "left": null,
            "margin": null,
            "max_height": null,
            "max_width": null,
            "min_height": null,
            "min_width": null,
            "object_fit": null,
            "object_position": null,
            "order": null,
            "overflow": null,
            "overflow_x": null,
            "overflow_y": null,
            "padding": null,
            "right": null,
            "top": null,
            "visibility": null,
            "width": null
          }
        },
        "ef602d400c544c8c9abef3ed96a9504f": {
          "model_module": "@jupyter-widgets/controls",
          "model_module_version": "1.5.0",
          "model_name": "ProgressStyleModel",
          "state": {
            "_model_module": "@jupyter-widgets/controls",
            "_model_module_version": "1.5.0",
            "_model_name": "ProgressStyleModel",
            "_view_count": null,
            "_view_module": "@jupyter-widgets/base",
            "_view_module_version": "1.2.0",
            "_view_name": "StyleView",
            "bar_color": null,
            "description_width": ""
          }
        },
        "f3e49998ff3744debb5e132447c1750b": {
          "model_module": "@jupyter-widgets/controls",
          "model_module_version": "1.5.0",
          "model_name": "HTMLModel",
          "state": {
            "_dom_classes": [],
            "_model_module": "@jupyter-widgets/controls",
            "_model_module_version": "1.5.0",
            "_model_name": "HTMLModel",
            "_view_count": null,
            "_view_module": "@jupyter-widgets/controls",
            "_view_module_version": "1.5.0",
            "_view_name": "HTMLView",
            "description": "",
            "description_tooltip": null,
            "layout": "IPY_MODEL_da942d18fa8546d9b340a342be8ff6a5",
            "placeholder": "​",
            "style": "IPY_MODEL_0a894f200a8247b28cb5f76ab4353d91",
            "value": "model.safetensors: 100%"
          }
        },
        "f93ff42119804d8a82f18af0baf738ff": {
          "model_module": "@jupyter-widgets/base",
          "model_module_version": "1.2.0",
          "model_name": "LayoutModel",
          "state": {
            "_model_module": "@jupyter-widgets/base",
            "_model_module_version": "1.2.0",
            "_model_name": "LayoutModel",
            "_view_count": null,
            "_view_module": "@jupyter-widgets/base",
            "_view_module_version": "1.2.0",
            "_view_name": "LayoutView",
            "align_content": null,
            "align_items": null,
            "align_self": null,
            "border": null,
            "bottom": null,
            "display": null,
            "flex": null,
            "flex_flow": null,
            "grid_area": null,
            "grid_auto_columns": null,
            "grid_auto_flow": null,
            "grid_auto_rows": null,
            "grid_column": null,
            "grid_gap": null,
            "grid_row": null,
            "grid_template_areas": null,
            "grid_template_columns": null,
            "grid_template_rows": null,
            "height": null,
            "justify_content": null,
            "justify_items": null,
            "left": null,
            "margin": null,
            "max_height": null,
            "max_width": null,
            "min_height": null,
            "min_width": null,
            "object_fit": null,
            "object_position": null,
            "order": null,
            "overflow": null,
            "overflow_x": null,
            "overflow_y": null,
            "padding": null,
            "right": null,
            "top": null,
            "visibility": null,
            "width": null
          }
        },
        "fa2eb321778b42b88fd44eaed4e216eb": {
          "model_module": "@jupyter-widgets/controls",
          "model_module_version": "1.5.0",
          "model_name": "HBoxModel",
          "state": {
            "_dom_classes": [],
            "_model_module": "@jupyter-widgets/controls",
            "_model_module_version": "1.5.0",
            "_model_name": "HBoxModel",
            "_view_count": null,
            "_view_module": "@jupyter-widgets/controls",
            "_view_module_version": "1.5.0",
            "_view_name": "HBoxView",
            "box_style": "",
            "children": [
              "IPY_MODEL_f3e49998ff3744debb5e132447c1750b",
              "IPY_MODEL_2393aec565bf4de0896399c4d1c9215a",
              "IPY_MODEL_3297abeadb3d492c86fdffcb36210797"
            ],
            "layout": "IPY_MODEL_2e2b2df632294ccab9e75a929437141e"
          }
        }
      }
    }
  },
  "nbformat": 4,
  "nbformat_minor": 0
}
